{
 "cells": [
  {
   "cell_type": "code",
   "execution_count": 42,
   "metadata": {
    "collapsed": false
   },
   "outputs": [],
   "source": [
    "class BinaryCode(object):\n",
    "    def decode(self, arr):\n",
    "        arr = map(int, list(arr))\n",
    "        rc = (self.assume(arr, 0), self.assume(arr, 1))\n",
    "        return rc\n",
    "\n",
    "    def assume(self, arr, begin):\n",
    "        foo = [begin]\n",
    "        for i in range(len(arr) - 1):\n",
    "            before = None\n",
    "            if i == 0:\n",
    "                before = 0\n",
    "            else:\n",
    "                before = foo[i-1]\n",
    "            current = foo[i]\n",
    "            new_val = arr[i] - (before + current)\n",
    "            if new_val > 1:\n",
    "                return \"NONE\"\n",
    "            else:\n",
    "                foo.append(new_val)\n",
    "        return ''.join([str(x) for x in foo])\n",
    "\n"
   ]
  },
  {
   "cell_type": "code",
   "execution_count": 43,
   "metadata": {
    "collapsed": false
   },
   "outputs": [
    {
     "data": {
      "text/plain": [
       "('011100011', '\"None\"')"
      ]
     },
     "execution_count": 43,
     "metadata": {},
     "output_type": "execute_result"
    }
   ],
   "source": [
    "foo = BinaryCode()\n",
    "\n",
    "foo.decode('123210122')"
   ]
  }
 ],
 "metadata": {
  "kernelspec": {
   "display_name": "Python 2",
   "language": "python",
   "name": "python2"
  },
  "language_info": {
   "codemirror_mode": {
    "name": "ipython",
    "version": 2
   },
   "file_extension": ".py",
   "mimetype": "text/x-python",
   "name": "python",
   "nbconvert_exporter": "python",
   "pygments_lexer": "ipython2",
   "version": "2.7.6"
  }
 },
 "nbformat": 4,
 "nbformat_minor": 0
}
