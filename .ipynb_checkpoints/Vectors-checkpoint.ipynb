{
 "cells": [
  {
   "cell_type": "code",
   "execution_count": null,
   "metadata": {
    "collapsed": false
   },
   "outputs": [],
   "source": [
    "def reverse_words(str):\n",
    "    str_list = list(str)\n",
    "    indx = 0\n",
    "    while indx < len(str_list):\n",
    "        if str_list[indx] == ' ':\n",
    "            indx += 1\n",
    "        else:\n",
    "            end = indx\n",
    "            while str_list[end] != ' ' and end < len(str_list):\n",
    "                end += 1\n",
    "            str_list = str_list[:indx] + reverse(str_list[indx:end]) + str_list[end:]\n",
    "            indx = end\n",
    "    return str_list\n",
    "\n",
    "def reverse(str):\n",
    "    string = list(str)\n",
    "    for indx in range(len(string)/2):\n",
    "        string[indx], string[(indx+1)*-1] = string[(indx+1)*-1], string[indx]\n",
    "    return string"
   ]
  },
  {
   "cell_type": "code",
   "execution_count": null,
   "metadata": {
    "collapsed": false
   },
   "outputs": [],
   "source": [
    "reverse_words(\"This is an  example!\")"
   ]
  }
 ],
 "metadata": {
  "kernelspec": {
   "display_name": "Python 2",
   "language": "python",
   "name": "python2"
  },
  "language_info": {
   "codemirror_mode": {
    "name": "ipython",
    "version": 2
   },
   "file_extension": ".py",
   "mimetype": "text/x-python",
   "name": "python",
   "nbconvert_exporter": "python",
   "pygments_lexer": "ipython2",
   "version": "2.7.6"
  }
 },
 "nbformat": 4,
 "nbformat_minor": 0
}
