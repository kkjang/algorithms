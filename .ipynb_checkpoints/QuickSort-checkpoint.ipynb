{
 "cells": [
  {
   "cell_type": "code",
   "execution_count": 15,
   "metadata": {
    "collapsed": true
   },
   "outputs": [],
   "source": [
    "def quick_sort(arr):\n",
    "    if len(arr) > 1:\n",
    "        pivot = arr[0]\n",
    "        i = 1\n",
    "        for j in range(1, len(arr)):\n",
    "            if arr[j] < pivot:\n",
    "                tmp = arr[j]\n",
    "                arr[j] = arr[i]\n",
    "                arr[i] = tmp\n",
    "                i += 1\n",
    "            \n",
    "        tmp = arr[i-1]\n",
    "        arr[i-1] = pivot\n",
    "        arr[0] = tmp\n",
    "        \n",
    "        left = quick_sort(arr[:i])\n",
    "        right = quick_sort(arr[i+1:])\n",
    "            \n",
    "        \n",
    "    "
   ]
  },
  {
   "cell_type": "code",
   "execution_count": 19,
   "metadata": {
    "collapsed": false
   },
   "outputs": [
    {
     "name": "stdout",
     "output_type": "stream",
     "text": [
      "[50, 87, 6, 23]\n",
      "[34, 67, 97, 100, 1, 3, 4]\n"
     ]
    }
   ],
   "source": [
    "test = [50,87, 6, 23,54,34,67,97,100, 1, 3, 4]\n",
    "i = 4\n",
    "print test[:i]\n",
    "print test[i+1:]"
   ]
  },
  {
   "cell_type": "code",
   "execution_count": null,
   "metadata": {
    "collapsed": true
   },
   "outputs": [],
   "source": []
  }
 ],
 "metadata": {
  "kernelspec": {
   "display_name": "Python 2",
   "language": "python",
   "name": "python2"
  },
  "language_info": {
   "codemirror_mode": {
    "name": "ipython",
    "version": 2
   },
   "file_extension": ".py",
   "mimetype": "text/x-python",
   "name": "python",
   "nbconvert_exporter": "python",
   "pygments_lexer": "ipython2",
   "version": "2.7.6"
  }
 },
 "nbformat": 4,
 "nbformat_minor": 0
}
