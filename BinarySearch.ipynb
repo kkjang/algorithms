{
 "cells": [
  {
   "cell_type": "code",
   "execution_count": 66,
   "metadata": {
    "collapsed": false
   },
   "outputs": [],
   "source": [
    "def binary_search_recursive(arr, val):\n",
    "    mid = len(arr) / 2\n",
    "    status = \"not found\"\n",
    "    print arr\n",
    "    if arr[mid] == val:\n",
    "        return \"found\"\n",
    "    else:\n",
    "        if len(arr) != 1:\n",
    "            if arr[mid] < val:\n",
    "                status = binary_search(arr[mid:], val)\n",
    "            elif arr[mid] > val:\n",
    "                status = binary_search(arr[:mid], val)\n",
    "    return status"
   ]
  },
  {
   "cell_type": "code",
   "execution_count": 83,
   "metadata": {
    "collapsed": false
   },
   "outputs": [],
   "source": [
    "def binary_search(arr, val):\n",
    "    low = 0\n",
    "    high = len(arr) - 1\n",
    "    mid = (high + low) / 2\n",
    "    found = False\n",
    "    while low <= high and not found:\n",
    "        count += 1\n",
    "        print low, mid, high\n",
    "        if arr[mid] == val:\n",
    "            found = True\n",
    "        else:\n",
    "            if arr[mid] < val:\n",
    "                low = mid + 1\n",
    "            else:\n",
    "                high = mid - 1\n",
    "            mid = (high + low) / 2\n",
    "    return found\n",
    "        "
   ]
  },
  {
   "cell_type": "code",
   "execution_count": 87,
   "metadata": {
    "collapsed": false
   },
   "outputs": [
    {
     "name": "stdout",
     "output_type": "stream",
     "text": [
      "0 2 5\n",
      "0 0 1\n",
      "True\n"
     ]
    }
   ],
   "source": [
    "test = [1,5, 32, 61, 86, 302]\n",
    "print binary_search(test, 1)"
   ]
  }
 ],
 "metadata": {
  "kernelspec": {
   "display_name": "Python 2",
   "language": "python",
   "name": "python2"
  },
  "language_info": {
   "codemirror_mode": {
    "name": "ipython",
    "version": 2
   },
   "file_extension": ".py",
   "mimetype": "text/x-python",
   "name": "python",
   "nbconvert_exporter": "python",
   "pygments_lexer": "ipython2",
   "version": "2.7.6"
  }
 },
 "nbformat": 4,
 "nbformat_minor": 0
}
