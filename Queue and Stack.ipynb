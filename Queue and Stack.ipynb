{
 "cells": [
  {
   "cell_type": "code",
   "execution_count": 98,
   "metadata": {
    "collapsed": true
   },
   "outputs": [],
   "source": [
    "class DataStructure(object):\n",
    "    def __init__(self):\n",
    "        self.items = list()\n",
    "    \n",
    "    def __str__(self):\n",
    "        return '[' + ' '.join([str(x) for x in self.items]) + ']'\n",
    "    \n",
    "    def is_empty(self):\n",
    "        return not self.items\n",
    "    \n",
    "    def get_size(self):\n",
    "        return len(self.items)\n",
    "        "
   ]
  },
  {
   "cell_type": "code",
   "execution_count": 99,
   "metadata": {
    "collapsed": true
   },
   "outputs": [],
   "source": [
    "class Queue(DataStructure):\n",
    "    def enqueue(self, val):\n",
    "        self.items.append(val)\n",
    "        \n",
    "    def dequeue(self):\n",
    "        self.items.remove(self.items[0])"
   ]
  },
  {
   "cell_type": "code",
   "execution_count": 102,
   "metadata": {
    "collapsed": true
   },
   "outputs": [],
   "source": [
    "class Stack(DataStructure):\n",
    "    def pop(self):\n",
    "        return self.items.pop()\n",
    "    \n",
    "    def push(self, val):\n",
    "        self.items.append(val)\n",
    "    "
   ]
  },
  {
   "cell_type": "code",
   "execution_count": 105,
   "metadata": {
    "collapsed": false
   },
   "outputs": [
    {
     "name": "stdout",
     "output_type": "stream",
     "text": [
      "6\n"
     ]
    }
   ],
   "source": [
    "test = Queue()\n",
    "foo = Stack()\n",
    "foo.push(5)\n",
    "foo.push(6)\n",
    "bar = foo.pop()"
   ]
  },
  {
   "cell_type": "code",
   "execution_count": null,
   "metadata": {
    "collapsed": true
   },
   "outputs": [],
   "source": []
  }
 ],
 "metadata": {
  "kernelspec": {
   "display_name": "Python 2",
   "language": "python",
   "name": "python2"
  },
  "language_info": {
   "codemirror_mode": {
    "name": "ipython",
    "version": 2
   },
   "file_extension": ".py",
   "mimetype": "text/x-python",
   "name": "python",
   "nbconvert_exporter": "python",
   "pygments_lexer": "ipython2",
   "version": "2.7.6"
  }
 },
 "nbformat": 4,
 "nbformat_minor": 0
}
