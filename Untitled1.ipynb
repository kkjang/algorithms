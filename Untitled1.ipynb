{
 "cells": [
  {
   "cell_type": "code",
   "execution_count": null,
   "metadata": {
    "collapsed": true
   },
   "outputs": [],
   "source": [
    "# TODO: complete this class\n",
    "import math\n",
    "class PaginationHelper:\n",
    "    \n",
    "    # The constructor takes in an array of items and a integer indicating\n",
    "    # how many items fit within a single page\n",
    "    def __init__(self, collection, items_per_page):\n",
    "        self.data = collection\n",
    "        self.ipp = items_per_page\n",
    "\n",
    "    # returns the number of items within the entire collection\n",
    "    def item_count(self):\n",
    "        return len(self.data)\n",
    "\n",
    "    # returns the number of pages\n",
    "    def page_count(self):\n",
    "        return math.ceil(self.item_count()*1.0 / self.ipp)\n",
    "\n",
    "    # returns the number of items on the current page. page_index is zero based\n",
    "    # this method should return -1 for page_index values that are out of range\n",
    "    def page_item_count(self,page_index):\n",
    "        if page_index == self.page_count() - 1:\n",
    "            return self.item_count() % self.ipp\n",
    "        elif page_index < self.page_count() - 1 and page_index > 0:\n",
    "            return self.ipp\n",
    "        else:\n",
    "            return -1\n",
    "\n",
    "    # determines what page an item is on. Zero based indexes.\n",
    "    # this method should return -1 for item_index values that are out of range\n",
    "    def page_index(self,item_index):\n",
    "        if item_index >= 0 and item_index < self.item_count():\n",
    "            return item_index / self.ipp\n",
    "        else:\n",
    "            return -1\n"
   ]
  }
 ],
 "metadata": {
  "kernelspec": {
   "display_name": "Python 2",
   "language": "python",
   "name": "python2"
  },
  "language_info": {
   "codemirror_mode": {
    "name": "ipython",
    "version": 2
   },
   "file_extension": ".py",
   "mimetype": "text/x-python",
   "name": "python",
   "nbconvert_exporter": "python",
   "pygments_lexer": "ipython2",
   "version": "2.7.6"
  }
 },
 "nbformat": 4,
 "nbformat_minor": 0
}
