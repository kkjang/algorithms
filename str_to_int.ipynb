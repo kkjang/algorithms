{
 "cells": [
  {
   "cell_type": "code",
   "execution_count": 1,
   "metadata": {
    "collapsed": true
   },
   "outputs": [],
   "source": [
    "'''\n",
    "Name: Kevin Jang\n",
    "Notes: Designed as close as possible to the problem description, thus\n",
    "    check_information_loss only checks for letters or decimal points.\n",
    "'''\n",
    "import re\n",
    "def parse_long(str):\n",
    "    try:\n",
    "        check_valid_input(str)\n",
    "        return convert_str_to_int(str)\n",
    "    except ValueError as e:\n",
    "        raise\n",
    "        \n",
    "# Check for any letters or decimal points in input string\n",
    "def check_valid_input(str):\n",
    "    if re.search(\"[a-zA-z\\. ]\", str):\n",
    "        raise ValueError('Incorrect input string.')\n",
    "        \n",
    "# Check if there are two or more plus/minus signs\n",
    "# or if plus/minus signs come after any digit.\n",
    "def check_information_loss(str):\n",
    "    if re.search(\"[-+]{2,}\", str) or re.search(\"[0-9][-+]\", str):\n",
    "        raise ValueError('Information loss. Check plus/minus signs.')\n",
    "\n",
    "# Converts the str into an integer by iterating through the string\n",
    "def convert_str_to_int(str):\n",
    "    check_information_loss(str)\n",
    "    value = 0\n",
    "    multiplier = 1\n",
    "    sign = 1\n",
    "    if str[0] is '-':\n",
    "        sign = -1\n",
    "    for char in str[::-1]:\n",
    "        char_value = ascii_conversion(char)\n",
    "        if char_value is not None:\n",
    "            value += char_value * multiplier\n",
    "            multiplier *= 10\n",
    "    return value * sign\n",
    "        \n",
    "# Looks up ascii decimal values of characters.\n",
    "# Only returns values for characters representing integers.\n",
    "# Plus/minus signs return None, other signs throw exceptions\n",
    "def ascii_conversion(char):\n",
    "    if ord(char) >= 48 and ord(char) <= 57:    \n",
    "        return ord(char) - 48\n",
    "    elif ord(char) == 43 or ord(char) == 45:\n",
    "        return None\n",
    "    else:\n",
    "        raise ValueError('Information loss. Improper Signs.')\n",
    "        "
   ]
  },
  {
   "cell_type": "code",
   "execution_count": 12,
   "metadata": {
    "collapsed": false
   },
   "outputs": [
    {
     "name": "stdout",
     "output_type": "stream",
     "text": [
      "9223372036854775808\n"
     ]
    }
   ],
   "source": [
    "foo = '9223372036854775808'\n",
    "print parse_long(foo)"
   ]
  }
 ],
 "metadata": {
  "kernelspec": {
   "display_name": "Python 2",
   "language": "python",
   "name": "python2"
  },
  "language_info": {
   "codemirror_mode": {
    "name": "ipython",
    "version": 2
   },
   "file_extension": ".py",
   "mimetype": "text/x-python",
   "name": "python",
   "nbconvert_exporter": "python",
   "pygments_lexer": "ipython2",
   "version": "2.7.6"
  }
 },
 "nbformat": 4,
 "nbformat_minor": 0
}
