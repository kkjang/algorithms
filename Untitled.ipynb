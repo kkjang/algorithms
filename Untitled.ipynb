{
 "cells": [
  {
   "cell_type": "code",
   "execution_count": 9,
   "metadata": {
    "collapsed": false
   },
   "outputs": [],
   "source": [
    "import re\n",
    "class Lottery(object):\n",
    "    def sortByOdds(self, arr):\n",
    "        for i in arr:\n",
    "            name, info = i.split(\":\")\n",
    "            info = info.split()\n",
    "            choices, blanks, sorte, unique = info\n",
    "            ticket_num = 0\n",
    "            adder = 0\n",
    "            for j in xrange(blanks):\n",
    "                if j == 0:\n",
    "                    adder = choices\n",
    "                    ticket_num = adder\n",
    "                if sorte:\n",
    "                    adder -= (choices - )\n",
    "                if unique:\n",
    "                    adder -= 1\n",
    "                \n",
    "            \n",
    "            \n",
    "            "
   ]
  },
  {
   "cell_type": "code",
   "execution_count": 13,
   "metadata": {
    "collapsed": false
   },
   "outputs": [
    {
     "name": "stdout",
     "output_type": "stream",
     "text": [
      "10 2 F F\n",
      "PICK ANY TWO\n"
     ]
    }
   ],
   "source": [
    "foo = (\"PICK ANY TWO: 10 2 F F\"\n",
    ",\"PICK TWO IN ORDER: 10 2 T F\"\n",
    ",\"PICK TWO DIFFERENT: 10 2 F T\"\n",
    ",\"PICK TWO LIMITED: 10 2 T T\")\n",
    "\n",
    "foo, test = \"PICK ANY TWO: 10 2 F F\".split(\":\")\n",
    "test = test.split()\n",
    "a,b,c,d = test\n",
    "print a,b,c,d\n",
    "print foo"
   ]
  }
 ],
 "metadata": {
  "kernelspec": {
   "display_name": "Python 2",
   "language": "python",
   "name": "python2"
  },
  "language_info": {
   "codemirror_mode": {
    "name": "ipython",
    "version": 2
   },
   "file_extension": ".py",
   "mimetype": "text/x-python",
   "name": "python",
   "nbconvert_exporter": "python",
   "pygments_lexer": "ipython2",
   "version": "2.7.6"
  }
 },
 "nbformat": 4,
 "nbformat_minor": 0
}
