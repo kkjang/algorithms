{
 "cells": [
  {
   "cell_type": "code",
   "execution_count": 8,
   "metadata": {
    "collapsed": true
   },
   "outputs": [],
   "source": [
    "def print_repeat(arr):\n",
    "    repeats = []\n",
    "    for indx in range(len(arr)):\n",
    "        print indx, abs(arr[indx])\n",
    "        if arr[abs(arr[indx])] >= 0:\n",
    "            arr[abs(arr[indx])] = arr[abs(arr[indx])] * -1\n",
    "        else:\n",
    "            repeats.append(abs(arr[indx]))\n",
    "        print arr, repeats\n",
    "    return repeats\n",
    "    "
   ]
  },
  {
   "cell_type": "code",
   "execution_count": 11,
   "metadata": {
    "collapsed": false,
    "scrolled": true
   },
   "outputs": [
    {
     "name": "stdout",
     "output_type": "stream",
     "text": [
      "0 1\n",
      "[1, -2, 3, 1, 3, 6, 6] []\n",
      "1 2\n",
      "[1, -2, -3, 1, 3, 6, 6] []\n",
      "2 3\n",
      "[1, -2, -3, -1, 3, 6, 6] []\n",
      "3 1\n",
      "[1, -2, -3, -1, 3, 6, 6] [1]\n",
      "4 3\n",
      "[1, -2, -3, -1, 3, 6, 6] [1, 3]\n",
      "5 6\n",
      "[1, -2, -3, -1, 3, 6, -6] [1, 3]\n",
      "6 6\n",
      "[1, -2, -3, -1, 3, 6, -6] [1, 3, 6]\n",
      "[1, 3, 6]\n"
     ]
    }
   ],
   "source": [
    "print print_repeat([1,2,3,1,3,6,6])"
   ]
  }
 ],
 "metadata": {
  "kernelspec": {
   "display_name": "Python 2",
   "language": "python",
   "name": "python2"
  },
  "language_info": {
   "codemirror_mode": {
    "name": "ipython",
    "version": 2
   },
   "file_extension": ".py",
   "mimetype": "text/x-python",
   "name": "python",
   "nbconvert_exporter": "python",
   "pygments_lexer": "ipython2",
   "version": "2.7.6"
  }
 },
 "nbformat": 4,
 "nbformat_minor": 0
}
