{
 "cells": [
  {
   "cell_type": "code",
   "execution_count": 27,
   "metadata": {
    "collapsed": true
   },
   "outputs": [],
   "source": [
    "def merge_sort(arr):\n",
    "    if len(arr) > 1:   \n",
    "        mid = len(arr) / 2\n",
    "        left = arr[:mid]\n",
    "        right = arr[mid:]\n",
    "        \n",
    "        merge_sort(left)\n",
    "        merge_sort(right)\n",
    "        \n",
    "        i = 0\n",
    "        j = 0\n",
    "        for k, v in enumerate(arr):\n",
    "            if i < len(left) and j < len(right):\n",
    "                if left[i] < right[j]:\n",
    "                    arr[k] = left[i]\n",
    "                    i += 1\n",
    "                else:\n",
    "                    arr[k] = right[j]\n",
    "                    j += 1\n",
    "                continue\n",
    "            if i < len(left):\n",
    "                arr[k] = left[i]\n",
    "                i += 1\n",
    "            else:\n",
    "                arr[k] = right[j]\n",
    "                j += 1\n",
    "    return arr\n",
    "\n",
    "def quick_sort(arr, begin = None, end = None):\n",
    "    if begin is None and end is None:\n",
    "        begin = 0\n",
    "        end = len(arr)\n",
    "    if end - begin > 1:     \n",
    "        pivot = arr[begin]\n",
    "        swap = begin\n",
    "        for indx, val in enumerate(arr[begin+1:end], begin+1):\n",
    "            if val < pivot:\n",
    "                swap += 1\n",
    "                arr[indx], arr[swap] = arr[swap], arr[indx]\n",
    "        arr[begin], arr[swap] = arr[swap], arr[begin]\n",
    "        quick_sort(arr, begin = begin, end = swap)\n",
    "        quick_sort(arr, begin = swap + 1, end = end)\n",
    "    return arr\n",
    "                "
   ]
  },
  {
   "cell_type": "code",
   "execution_count": 28,
   "metadata": {
    "collapsed": false
   },
   "outputs": [
    {
     "data": {
      "text/plain": [
       "[1, 5, 9, 10, 50, 68, 74, 78, 89, 94, 100]"
      ]
     },
     "execution_count": 28,
     "metadata": {},
     "output_type": "execute_result"
    }
   ],
   "source": [
    "test = [50,1,94,5,78,10,9,89,68,74,100]\n",
    "quick_sort(test)"
   ]
  }
 ],
 "metadata": {
  "kernelspec": {
   "display_name": "Python 2",
   "language": "python",
   "name": "python2"
  },
  "language_info": {
   "codemirror_mode": {
    "name": "ipython",
    "version": 2
   },
   "file_extension": ".py",
   "mimetype": "text/x-python",
   "name": "python",
   "nbconvert_exporter": "python",
   "pygments_lexer": "ipython2",
   "version": "2.7.6"
  }
 },
 "nbformat": 4,
 "nbformat_minor": 0
}
