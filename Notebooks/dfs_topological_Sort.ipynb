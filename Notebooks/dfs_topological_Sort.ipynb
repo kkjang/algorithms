{
 "cells": [
  {
   "cell_type": "code",
   "execution_count": 46,
   "metadata": {
    "collapsed": false
   },
   "outputs": [],
   "source": [
    "from exceptions import ValueError\n",
    "def dfs(graph):\n",
    "    visited = set()\n",
    "    for vertex in graph:\n",
    "        current = set()\n",
    "#         print 'vert', vertex\n",
    "        if vertex not in visited:\n",
    "            dfs_helper(graph, vertex, visited, current)\n",
    "            \n",
    "\n",
    "def dfs_helper(graph, vertex, visited, current):\n",
    "    if vertex in current:\n",
    "        print 'cycle detected!'\n",
    "        raise ValueError('cycle')\n",
    "    if vertex not in visited:\n",
    "        current.add(vertex)\n",
    "        visited.add(vertex)\n",
    "        print vertex\n",
    "        for edge in graph[vertex]:\n",
    "            result = dfs_helper(graph, edge, visited, current)\n",
    "        current.remove(vertex)\n",
    "            \n",
    "from collections import deque\n",
    "def topological_sort(graph):\n",
    "    # 0=white, 1=grey, 2=black\n",
    "    status = [0] * len(graph)\n",
    "    top_sort = deque()\n",
    "    for vertex in graph:\n",
    "#         print vertex\n",
    "        if status[vertex] == 0:\n",
    "            topological_helper(graph, vertex, status, top_sort)\n",
    "    return top_sort\n",
    "    \n",
    "def topological_helper(graph, vertex, status, top_sort):\n",
    "    status[vertex] = 1\n",
    "#     print status\n",
    "    for edge in graph[vertex]:\n",
    "        if status[edge] == 0:\n",
    "            topological_helper(graph, edge, status, top_sort)\n",
    "        else:\n",
    "            if status[edge] == 1:\n",
    "                raise ValueError('cycle detected')\n",
    "    status[vertex] = 2\n",
    "    top_sort.appendleft(vertex)"
   ]
  },
  {
   "cell_type": "code",
   "execution_count": 47,
   "metadata": {
    "collapsed": false
   },
   "outputs": [
    {
     "data": {
      "text/plain": [
       "deque([5, 4, 2, 3, 1, 0])"
      ]
     },
     "execution_count": 47,
     "metadata": {},
     "output_type": "execute_result"
    }
   ],
   "source": [
    "graph = {5:[0,2], 0:[], 1:[], 2:[3], 3:[1], 4:[0,1]}\n",
    "# graph = {5:[], 0:[5], 1:[2,4], 2:[3], 3:[1], 4:[5]}\n",
    "# dfs_helper(graph,0, set(), set())\n",
    "topological_sort(graph)"
   ]
  },
  {
   "cell_type": "code",
   "execution_count": null,
   "metadata": {
    "collapsed": true
   },
   "outputs": [],
   "source": []
  }
 ],
 "metadata": {
  "kernelspec": {
   "display_name": "Python 2",
   "language": "python",
   "name": "python2"
  },
  "language_info": {
   "codemirror_mode": {
    "name": "ipython",
    "version": 2
   },
   "file_extension": ".py",
   "mimetype": "text/x-python",
   "name": "python",
   "nbconvert_exporter": "python",
   "pygments_lexer": "ipython2",
   "version": "2.7.6"
  }
 },
 "nbformat": 4,
 "nbformat_minor": 0
}
