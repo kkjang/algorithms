{
 "cells": [
  {
   "cell_type": "code",
   "execution_count": 6,
   "metadata": {
    "collapsed": true
   },
   "outputs": [],
   "source": [
    "def sum_fib(n):\n",
    "    fib_dict = dict()\n",
    "    fib_dict[0] = 0\n",
    "    fib_dict[1] = 1\n",
    "    if n < 2:\n",
    "        return n\n",
    "    else:\n",
    "        running_sum = 1\n",
    "        for num in range(2, n+1):\n",
    "            fib = fib_dict[num-1] + fib_dict[num-2]\n",
    "            fib_dict[num] = fib\n",
    "            running_sum += fib\n",
    "    return running_sum\n",
    "\n",
    "def fib(n):\n",
    "    a = 0\n",
    "    b = 1\n",
    "    fib_sum = 1\n",
    "    if n < 2:\n",
    "        return n\n",
    "    else:\n",
    "        for num in range(2, n+1):\n",
    "            c = a + b\n",
    "            fib_sum += c\n",
    "            a = b\n",
    "            b = c\n",
    "    return fib_sum"
   ]
  },
  {
   "cell_type": "code",
   "execution_count": 7,
   "metadata": {
    "collapsed": false
   },
   "outputs": [
    {
     "data": {
      "text/plain": [
       "54"
      ]
     },
     "execution_count": 7,
     "metadata": {},
     "output_type": "execute_result"
    }
   ],
   "source": [
    "sum_fib(5)\n",
    "fib(8)"
   ]
  }
 ],
 "metadata": {
  "kernelspec": {
   "display_name": "Python 2",
   "language": "python",
   "name": "python2"
  },
  "language_info": {
   "codemirror_mode": {
    "name": "ipython",
    "version": 2
   },
   "file_extension": ".py",
   "mimetype": "text/x-python",
   "name": "python",
   "nbconvert_exporter": "python",
   "pygments_lexer": "ipython2",
   "version": "2.7.6"
  }
 },
 "nbformat": 4,
 "nbformat_minor": 0
}
