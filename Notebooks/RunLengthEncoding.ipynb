{
 "cells": [
  {
   "cell_type": "code",
   "execution_count": 9,
   "metadata": {
    "collapsed": true
   },
   "outputs": [],
   "source": [
    "\"\"\"(a) resulting string shall be written to the input string.\n",
    "(b) maximum extra memory allowed is (length of string – 1) bytes.\n",
    "(c) if the resulting string will be longer than the input string, \n",
    "the algorithm can abort and leave the string dirty.\"\"\"\n",
    "\n",
    "def run_length_encoding(arr):\n",
    "    encoding = \"\"\n",
    "    indx = 0\n",
    "    cur_char = None\n",
    "    cur_count = None\n",
    "    while indx < len(arr):\n",
    "        if arr[indx] == cur_char:\n",
    "            cur_count += 1\n",
    "        else:\n",
    "            if cur_char is not None:\n",
    "                encoding += str(cur_count)\n",
    "            cur_count = 1\n",
    "            cur_char = arr[indx]\n",
    "            encoding += cur_char\n",
    "        indx += 1\n",
    "    encoding += str(cur_count)\n",
    "    return encoding\n",
    "        \n",
    "    "
   ]
  },
  {
   "cell_type": "code",
   "execution_count": 10,
   "metadata": {
    "collapsed": false
   },
   "outputs": [
    {
     "data": {
      "text/plain": [
       "'W5B3K1Q6'"
      ]
     },
     "execution_count": 10,
     "metadata": {},
     "output_type": "execute_result"
    }
   ],
   "source": [
    "test = \"WWWWWBBBKQQQQQQ\"\n",
    "run_length_encoding(test)"
   ]
  }
 ],
 "metadata": {
  "kernelspec": {
   "display_name": "Python 2",
   "language": "python",
   "name": "python2"
  },
  "language_info": {
   "codemirror_mode": {
    "name": "ipython",
    "version": 2
   },
   "file_extension": ".py",
   "mimetype": "text/x-python",
   "name": "python",
   "nbconvert_exporter": "python",
   "pygments_lexer": "ipython2",
   "version": "2.7.6"
  }
 },
 "nbformat": 4,
 "nbformat_minor": 0
}
