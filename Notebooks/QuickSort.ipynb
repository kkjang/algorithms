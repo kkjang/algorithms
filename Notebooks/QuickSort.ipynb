{
 "cells": [
  {
   "cell_type": "code",
   "execution_count": 1,
   "metadata": {
    "collapsed": true
   },
   "outputs": [],
   "source": [
    "def quick_sort(arr):\n",
    "    if len(arr) > 1:\n",
    "        pivot = arr[0]\n",
    "        i = 1\n",
    "        for j in range(1, len(arr)):\n",
    "            if arr[j] < pivot:\n",
    "                tmp = arr[j]\n",
    "                arr[j] = arr[i]\n",
    "                arr[i] = tmp\n",
    "                i += 1\n",
    "            \n",
    "        tmp = arr[i-1]\n",
    "        arr[i-1] = pivot\n",
    "        arr[0] = tmp\n",
    "        \n",
    "        left = quick_sort(arr[:i-1])\n",
    "        left.append(pivot)\n",
    "        right = quick_sort(arr[i:])\n",
    "        arr = left + right\n",
    "        return arr\n",
    "    else:\n",
    "        return arr\n",
    "        \n",
    "    "
   ]
  },
  {
   "cell_type": "code",
   "execution_count": 2,
   "metadata": {
    "collapsed": false
   },
   "outputs": [
    {
     "name": "stdout",
     "output_type": "stream",
     "text": [
      "[1, 2, 3, 4, 5, 6, 7, 8]\n"
     ]
    }
   ],
   "source": [
    "test =  [1,2,3,4,5,6,7,8]\n",
    "print quick_sort(test)"
   ]
  },
  {
   "cell_type": "code",
   "execution_count": null,
   "metadata": {
    "collapsed": true
   },
   "outputs": [],
   "source": []
  }
 ],
 "metadata": {
  "kernelspec": {
   "display_name": "Python 2",
   "language": "python",
   "name": "python2"
  },
  "language_info": {
   "codemirror_mode": {
    "name": "ipython",
    "version": 2
   },
   "file_extension": ".py",
   "mimetype": "text/x-python",
   "name": "python",
   "nbconvert_exporter": "python",
   "pygments_lexer": "ipython2",
   "version": "2.7.6"
  }
 },
 "nbformat": 4,
 "nbformat_minor": 0
}
