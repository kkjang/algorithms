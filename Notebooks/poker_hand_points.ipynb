{
 "cells": [
  {
   "cell_type": "code",
   "execution_count": 31,
   "metadata": {
    "collapsed": true
   },
   "outputs": [],
   "source": [
    "def poker_hand(hand):\n",
    "    hand_dict = dict()\n",
    "    for card in hand:\n",
    "        if hand_dict.get(card):\n",
    "            hand_dict[card] += 1\n",
    "        else:\n",
    "            hand_dict[card] = 1\n",
    "    print hand_dict\n",
    "    first_max = 0\n",
    "    second_max = 0\n",
    "    for key, value in hand_dict.iteritems():\n",
    "        if value >= first_max:\n",
    "            second_max = first_max\n",
    "            first_max = value\n",
    "        else:\n",
    "            if value > second_max:\n",
    "                second_max = value\n",
    "    print first_max, second_max\n",
    "    if first_max > 3:\n",
    "        print 'four of a kind'\n",
    "    elif first_max > 2:\n",
    "        if second_max > 1:\n",
    "            print 'full house'\n",
    "        else:\n",
    "            print 'three of a kind'\n",
    "    elif first_max > 1:\n",
    "        if second_max > 1:\n",
    "            print 'two pair'\n",
    "        else:\n",
    "            print 'pair'\n",
    "    else:\n",
    "        print 'nothing'"
   ]
  },
  {
   "cell_type": "code",
   "execution_count": 36,
   "metadata": {
    "collapsed": false
   },
   "outputs": [
    {
     "name": "stdout",
     "output_type": "stream",
     "text": [
      "{1: 1, 2: 1, 3: 1, 4: 1, 5: 1}\n",
      "1 1\n",
      "nothing\n"
     ]
    }
   ],
   "source": [
    "poker_hand([1,2,3,4,5])"
   ]
  }
 ],
 "metadata": {
  "kernelspec": {
   "display_name": "Python 2",
   "language": "python",
   "name": "python2"
  },
  "language_info": {
   "codemirror_mode": {
    "name": "ipython",
    "version": 2
   },
   "file_extension": ".py",
   "mimetype": "text/x-python",
   "name": "python",
   "nbconvert_exporter": "python",
   "pygments_lexer": "ipython2",
   "version": "2.7.6"
  }
 },
 "nbformat": 4,
 "nbformat_minor": 0
}
