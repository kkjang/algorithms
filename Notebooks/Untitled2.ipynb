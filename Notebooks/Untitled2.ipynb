{
 "cells": [
  {
   "cell_type": "code",
   "execution_count": 24,
   "metadata": {
    "collapsed": true
   },
   "outputs": [],
   "source": [
    "def permutations(char_list, index=0, n = None):\n",
    "    if n is None:\n",
    "        n = len(char_list)\n",
    "    if index == n-1:\n",
    "        print 'final', char_list\n",
    "        return\n",
    "    else:\n",
    "        for i in range(index, n):\n",
    "            char_list[i], char_list[index] = char_list[index], char_list[i]\n",
    "            permutations(char_list, index+1, n)\n",
    "            char_list[index], char_list[i] = char_list[i], char_list[index]"
   ]
  },
  {
   "cell_type": "code",
   "execution_count": 25,
   "metadata": {
    "collapsed": false
   },
   "outputs": [
    {
     "name": "stdout",
     "output_type": "stream",
     "text": [
      "final ['a', 'b', 'c', 'd']\n",
      "final ['a', 'b', 'd', 'c']\n",
      "final ['a', 'c', 'b', 'd']\n",
      "final ['a', 'c', 'd', 'b']\n",
      "final ['a', 'd', 'c', 'b']\n",
      "final ['a', 'd', 'b', 'c']\n",
      "final ['b', 'a', 'c', 'd']\n",
      "final ['b', 'a', 'd', 'c']\n",
      "final ['b', 'c', 'a', 'd']\n",
      "final ['b', 'c', 'd', 'a']\n",
      "final ['b', 'd', 'c', 'a']\n",
      "final ['b', 'd', 'a', 'c']\n",
      "final ['c', 'b', 'a', 'd']\n",
      "final ['c', 'b', 'd', 'a']\n",
      "final ['c', 'a', 'b', 'd']\n",
      "final ['c', 'a', 'd', 'b']\n",
      "final ['c', 'd', 'a', 'b']\n",
      "final ['c', 'd', 'b', 'a']\n",
      "final ['d', 'b', 'c', 'a']\n",
      "final ['d', 'b', 'a', 'c']\n",
      "final ['d', 'c', 'b', 'a']\n",
      "final ['d', 'c', 'a', 'b']\n",
      "final ['d', 'a', 'c', 'b']\n",
      "final ['d', 'a', 'b', 'c']\n"
     ]
    }
   ],
   "source": [
    "test = list('abcd')\n",
    "permutations(test)"
   ]
  }
 ],
 "metadata": {
  "kernelspec": {
   "display_name": "Python 2",
   "language": "python",
   "name": "python2"
  },
  "language_info": {
   "codemirror_mode": {
    "name": "ipython",
    "version": 2
   },
   "file_extension": ".py",
   "mimetype": "text/x-python",
   "name": "python",
   "nbconvert_exporter": "python",
   "pygments_lexer": "ipython2",
   "version": "2.7.6"
  }
 },
 "nbformat": 4,
 "nbformat_minor": 0
}
