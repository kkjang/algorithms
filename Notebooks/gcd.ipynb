{
 "cells": [
  {
   "cell_type": "code",
   "execution_count": 33,
   "metadata": {
    "collapsed": true
   },
   "outputs": [],
   "source": [
    "def gcd_recursive(u, v):\n",
    "#     print u, v\n",
    "    if u == v:\n",
    "        return u\n",
    "    if u == 0:\n",
    "        return v\n",
    "    if v == 0:\n",
    "        return u\n",
    "    u_parity = u % 2\n",
    "    v_parity = v % 2\n",
    "    if u_parity == 0 and v_parity == 0:\n",
    "        return 2 * gcd_recursive(u/2, v/2)\n",
    "    elif u_parity == 0 and v_parity == 1:\n",
    "        return gcd_recursive(u/2, v)\n",
    "    elif u_parity == 1 and v_parity == 0:\n",
    "        return gcd_recursive(u, v/2)\n",
    "    else:\n",
    "        if u < v:\n",
    "            return gcd_recursive(u,(v-u)/2)\n",
    "        else:\n",
    "            return gcd_recursive((u-v)/2, v)\n",
    "\n",
    "def gcd_iterative(u,v):\n",
    "    double_count = 0\n",
    "    while u != v and u != 0 and v != 0:\n",
    "#         print u, v\n",
    "        u_parity = u % 2\n",
    "        v_parity = v % 2\n",
    "        if u_parity == 0 and v_parity == 0:\n",
    "            double_count += 1\n",
    "            u /= 2\n",
    "            v /= 2\n",
    "        elif u_parity == 0 and v_parity == 1:\n",
    "            u /= 2\n",
    "        elif u_parity == 1 and v_parity == 0:\n",
    "            v /= 2\n",
    "        else:\n",
    "            if u < v:\n",
    "                v = (v-u)/2\n",
    "            else:\n",
    "                u = (u-v)/2\n",
    "    multiplier = u\n",
    "    if u == 0:\n",
    "        multiplier = v\n",
    "    if v == 0:\n",
    "        multiplier = u\n",
    "    return pow(2, double_count) * multiplier\n",
    "        "
   ]
  },
  {
   "cell_type": "code",
   "execution_count": 34,
   "metadata": {
    "collapsed": false
   },
   "outputs": [
    {
     "name": "stdout",
     "output_type": "stream",
     "text": [
      "8\n",
      "8\n"
     ]
    }
   ],
   "source": [
    "print gcd_recursive(1400, 544)\n",
    "print gcd_iterative(1400, 544)"
   ]
  }
 ],
 "metadata": {
  "kernelspec": {
   "display_name": "Python 2",
   "language": "python",
   "name": "python2"
  },
  "language_info": {
   "codemirror_mode": {
    "name": "ipython",
    "version": 2
   },
   "file_extension": ".py",
   "mimetype": "text/x-python",
   "name": "python",
   "nbconvert_exporter": "python",
   "pygments_lexer": "ipython2",
   "version": "2.7.6"
  }
 },
 "nbformat": 4,
 "nbformat_minor": 0
}
