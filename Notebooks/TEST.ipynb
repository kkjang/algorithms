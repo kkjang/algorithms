{
 "cells": [
  {
   "cell_type": "code",
   "execution_count": null,
   "metadata": {
    "collapsed": false
   },
   "outputs": [],
   "source": [
    "def merge_sort(arr):\n",
    "    if len(arr) > 1:\n",
    "        mid = len(arr) / 2\n",
    "        left = arr[:mid]\n",
    "        right = arr[mid:]\n",
    "        \n",
    "        merge_sort(left)\n",
    "        merge_sort(right)\n",
    "        \n",
    "        i, j = 0,0\n",
    "        for k in range(len(arr)):\n",
    "            if i < len(left) and j < len(right):\n",
    "                if left[i] < right[j]:\n",
    "                    arr[k] = left[i]\n",
    "                    i += 1\n",
    "                else:\n",
    "                    arr[k] = right[j]\n",
    "                    j += 1\n",
    "                continue\n",
    "            if i < len(left):\n",
    "                arr[k] = left[i]\n",
    "                i += 1\n",
    "            if j < len(right):\n",
    "                arr[k] = right[j]\n",
    "                j += 1\n",
    "                \n",
    "def bubble_sort(arr):\n",
    "    #for n - 1 iterations\n",
    "    for i in range(len(arr) - 1): \n",
    "        swap = False\n",
    "        # swapping j and j+1, makes sure no index problems\n",
    "        for j in range(len(arr)-1):\n",
    "            if arr[j] > arr[j+1]:\n",
    "                swap = True\n",
    "                tmp = arr[j+1]\n",
    "                arr[j+1] = arr[j]\n",
    "                arr[j] = tmp\n",
    "            print arr\n",
    "        if swap == False:\n",
    "            break\n",
    "            \n",
    "def bubble_sort2(arr):\n",
    "    count = 0\n",
    "    for i in range(len(arr)-1):\n",
    "        for j in range(len(arr)- 1):\n",
    "            count += 1\n",
    "            if arr[j] > arr[j+1]:\n",
    "                tmp = arr[j+1]\n",
    "                arr[j+1] = arr[j]\n",
    "                arr[j] = tmp\n",
    "    return arr, count"
   ]
  },
  {
   "cell_type": "code",
   "execution_count": null,
   "metadata": {
    "collapsed": false
   },
   "outputs": [],
   "source": [
    "test = [2,3,4,5,1]\n",
    "# merge_sort(test)\n",
    "bubble_sort(test)\n",
    "print test"
   ]
  },
  {
   "cell_type": "code",
   "execution_count": null,
   "metadata": {
    "collapsed": false
   },
   "outputs": [],
   "source": [
    "foo = [19, 20, 22, 25, 28]\n",
    "graph = []\n",
    "minimum = 19\n",
    "maximum = 28\n",
    "increment = (maximum - minimum) / 8.0\n",
    "for i in range(len(foo)):\n",
    "    current = minimum\n",
    "    counter = 0\n",
    "    found = False\n",
    "    while not found:\n",
    "        upper = current + increment\n",
    "        if foo[i] >= current and foo[i] < upper:\n",
    "            graph.append(counter)\n",
    "            found = True\n",
    "        current = upper\n",
    "        counter += 1\n",
    "        \n",
    "print graph\n",
    "    "
   ]
  },
  {
   "cell_type": "code",
   "execution_count": null,
   "metadata": {
    "collapsed": false
   },
   "outputs": [],
   "source": [
    "def binary_search(arr, val):\n",
    "    found = False\n",
    "    i = 0\n",
    "    j = len(arr) - 1\n",
    "    while i <= j:\n",
    "        mid = (i + j) / 2\n",
    "        if val == arr[mid]:\n",
    "            return 'found'\n",
    "        elif val < arr[mid]:\n",
    "            j = mid - 1\n",
    "        else:\n",
    "            i = mid + 1\n",
    "    return 'not found'\n",
    "        \n",
    "        "
   ]
  },
  {
   "cell_type": "code",
   "execution_count": null,
   "metadata": {
    "collapsed": false
   },
   "outputs": [],
   "source": [
    "foo = [1,3,10,16,23,34,58, 73,84,98,104]\n",
    "binary_search(foo, 1)"
   ]
  },
  {
   "cell_type": "code",
   "execution_count": null,
   "metadata": {
    "collapsed": false
   },
   "outputs": [],
   "source": [
    "test = range(1,20)\n",
    "print test"
   ]
  },
  {
   "cell_type": "code",
   "execution_count": null,
   "metadata": {
    "collapsed": true
   },
   "outputs": [],
   "source": [
    "def quick_sort(arr, begin = None, end = None):\n",
    "    if begin is None:\n",
    "        begin = 0\n",
    "    if end is None:\n",
    "        end = len(arr)\n",
    "    if (end - begin) > 1:\n",
    "        pivot = arr[begin]\n",
    "        swap = begin\n",
    "        for i in range(begin+1, end):\n",
    "            if arr[i] < pivot:\n",
    "                swap += 1\n",
    "                tmp = arr[i]\n",
    "                arr[i] = arr[swap]\n",
    "                arr[swap] = tmp\n",
    "        tmp = arr[swap]\n",
    "        arr[swap] = pivot\n",
    "        arr[begin] = tmp\n",
    "        \n",
    "        quick_sort(arr, begin, swap)\n",
    "        quick_sort(arr, swap+1, end)\n",
    "    "
   ]
  },
  {
   "cell_type": "code",
   "execution_count": null,
   "metadata": {
    "collapsed": false
   },
   "outputs": [],
   "source": [
    "test = [19, 28, 9, 10, 6, 16, 8, 1, 4, 24, 10, 2, 8, 3, 9, 13, 4, 10, 19, 1, 8, 18, 1, 5, 10, 17, 6, 26, 6, 10]\n",
    "quick_sort(test)\n",
    "print test"
   ]
  },
  {
   "cell_type": "code",
   "execution_count": null,
   "metadata": {
    "collapsed": true
   },
   "outputs": [],
   "source": [
    "class Queue(object):\n",
    "    def __init__(self):\n",
    "        \"\"\"\n",
    "        initialize your data structure here.\n",
    "        \"\"\"\n",
    "        self.incoming = list()\n",
    "        self.outgoing = list()\n",
    "\n",
    "    def push(self, x):\n",
    "        \"\"\"\n",
    "        :type x: int\n",
    "        :rtype: nothing\n",
    "        \"\"\"\n",
    "        self.incoming.append(x)\n",
    "\n",
    "    def pop(self):\n",
    "        \"\"\"\n",
    "        :rtype: nothing\n",
    "        \"\"\"\n",
    "        if self.outgoing:\n",
    "            self.outgoing.pop()\n",
    "        else:\n",
    "            for i in range(len(self.incoming)):\n",
    "                self.outgoing.append(self.incoming.pop())\n",
    "            self.outgoing.pop()\n",
    "\n",
    "    def peek(self):\n",
    "        \"\"\"\n",
    "        :rtype: int\n",
    "        \"\"\"\n",
    "        print self.incoming, self.outgoing\n",
    "        if self.outgoing:\n",
    "            return self.outgoing[-1]\n",
    "        else:\n",
    "            for i in range(len(self.incoming)):\n",
    "                self.outgoing.append(self.incoming.pop())\n",
    "            print self.outgoing\n",
    "            return self.outgoing[-1]\n",
    "        \n",
    "    def empty(self):\n",
    "        \"\"\"\n",
    "        :rtype: bool\n",
    "        \"\"\"\n",
    "        return not self.outgoing and not self.incoming\n",
    "        "
   ]
  },
  {
   "cell_type": "code",
   "execution_count": null,
   "metadata": {
    "collapsed": false
   },
   "outputs": [],
   "source": [
    "test = Queue()\n",
    "test.push(1)\n",
    "test.push(2)\n",
    "test.peek()"
   ]
  },
  {
   "cell_type": "code",
   "execution_count": null,
   "metadata": {
    "collapsed": false
   },
   "outputs": [],
   "source": [
    "text = \"\"\"eth0      Link encap:Ethernet  HWaddr f4:6d:04:32:87:6e  \n",
    "          inet addr:152.23.200.53  Bcast:152.23.200.255  Mask:255.255.255.0 \n",
    "          inet6 addr: fe80::f66d:4ff:fe32:876e/64 Scope:Link\n",
    "          UP BROADCAST RUNNING MULTICAST  MTU:1500  Metric:1\n",
    "          RX packets:28538687 errors:0 dropped:2 overruns:0 frame:0\n",
    "          TX packets:7259320 errors:0 dropped:0 overruns:0 carrier:0\n",
    "          collisions:0 txqueuelen:1000 \n",
    "          RX bytes:33119802675 (33.1 GB)  TX bytes:1039876896 (1.0 GB)\n",
    "\n",
    "lo        Link encap:Local Loopback  \n",
    "          inet addr:127.0.0.1  Mask:255.0.0.0\n",
    "          inet6 addr: ::1/128 Scope:Host\n",
    "          UP LOOPBACK RUNNING  MTU:65536  Metric:1\n",
    "          RX packets:9695030 errors:0 dropped:0 overruns:0 frame:0\n",
    "          TX packets:9695030 errors:0 dropped:0 overruns:0 carrier:0\n",
    "          collisions:0 txqueuelen:0 \n",
    "          RX bytes:690327398 (690.3 MB)  TX bytes:690327398 (690.3 MB)\n",
    "\"\"\"\n",
    "\n",
    "import re\n",
    "# matches = re.search(r\"(([1-9]{1}[0-9]{1,2} | 0).){3}([1-9]{1}[0-9]{1,2} | 0)$\", text)\n",
    "matches = re.findall(r\"\\d{1,3}\\.\\d{1,3}\\.\\d{1,3}\\.\\d{1,3}\", text)\n",
    "if matches:\n",
    "    print matches"
   ]
  },
  {
   "cell_type": "code",
   "execution_count": null,
   "metadata": {
    "collapsed": false
   },
   "outputs": [],
   "source": [
    "foo = \"This is sample text: {1,2,3,4,5,6,7,8}.  Please analyze it.\"\n",
    "bar = re.search(r\"\\{([0-9,]+)\\}\", foo)\n",
    "test = None\n",
    "if bar:\n",
    "    test = bar.groups()[0].split(\",\")\n",
    "print test"
   ]
  },
  {
   "cell_type": "code",
   "execution_count": 15,
   "metadata": {
    "collapsed": true
   },
   "outputs": [],
   "source": [
    "def fib(n):\n",
    "    if n <= 1:\n",
    "        return n\n",
    "    return fib(n-1) + fib(n-2)\n",
    "def fib_dp(n):\n",
    "    values = dict()\n",
    "    values[0] = 0\n",
    "    values[1] = 1\n",
    "    if n <= 1:\n",
    "        return n\n",
    "    for i in range(2, n+1):\n",
    "        values[i] = values[i-1] + values[i-2]\n",
    "    return values[n]\n",
    "        "
   ]
  },
  {
   "cell_type": "code",
   "execution_count": 17,
   "metadata": {
    "collapsed": false
   },
   "outputs": [
    {
     "name": "stdout",
     "output_type": "stream",
     "text": [
      "610\n"
     ]
    }
   ],
   "source": [
    "print fib_dp(15)\n"
   ]
  },
  {
   "cell_type": "code",
   "execution_count": 27,
   "metadata": {
    "collapsed": false
   },
   "outputs": [],
   "source": [
    "class fib(object):\n",
    "    def __init__(self):\n",
    "        self.test = []\n",
    "    def add_one(self):\n",
    "        self.test.append(1)"
   ]
  },
  {
   "cell_type": "code",
   "execution_count": 28,
   "metadata": {
    "collapsed": false
   },
   "outputs": [
    {
     "name": "stdout",
     "output_type": "stream",
     "text": [
      "[1]\n",
      "[1]\n"
     ]
    }
   ],
   "source": [
    "foo = fib()\n",
    "bar = fib()\n",
    "foo.add_one()\n",
    "print foo.test\n",
    "bar.add_one()\n",
    "print bar.test\n"
   ]
  }
 ],
 "metadata": {
  "kernelspec": {
   "display_name": "Python 2",
   "language": "python",
   "name": "python2"
  },
  "language_info": {
   "codemirror_mode": {
    "name": "ipython",
    "version": 2
   },
   "file_extension": ".py",
   "mimetype": "text/x-python",
   "name": "python",
   "nbconvert_exporter": "python",
   "pygments_lexer": "ipython2",
   "version": "2.7.6"
  }
 },
 "nbformat": 4,
 "nbformat_minor": 0
}
