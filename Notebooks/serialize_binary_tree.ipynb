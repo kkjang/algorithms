{
 "cells": [
  {
   "cell_type": "code",
   "execution_count": 40,
   "metadata": {
    "collapsed": true
   },
   "outputs": [],
   "source": [
    "class Node:\n",
    "    def __init__(self,val):\n",
    "        self.val = val\n",
    "        self.left = None\n",
    "        self.right = None\n",
    "    def __str__(self):\n",
    "        return str(self.val)\n",
    "\n",
    "def serialize_tree(root, final_list=None):\n",
    "    if final_list is None:\n",
    "        final_list = []\n",
    "    if root is None:\n",
    "        final_list.append('#')\n",
    "    else:\n",
    "        final_list.append(root.val)\n",
    "        serialize_tree(root.left, final_list)\n",
    "        serialize_tree(root.right, final_list)\n",
    "    return final_list\n",
    "\n",
    "def deserialize_tree(final_list, index=None):\n",
    "    if index is None:\n",
    "        index = [0]\n",
    "    if index[0] < len(final_list):\n",
    "        if final_list[index[0]] == '#':\n",
    "            return None\n",
    "#         print index\n",
    "        node = Node(final_list[index[0]])\n",
    "        index[0] += 1\n",
    "#         print 'before', index[0]\n",
    "        node.left = deserialize_tree(final_list, index)\n",
    "        index[0] += 1\n",
    "#         print 'after', index[0]\n",
    "        node.right = deserialize_tree(final_list, index)\n",
    "\n",
    "        return node\n",
    "    "
   ]
  },
  {
   "cell_type": "code",
   "execution_count": 41,
   "metadata": {
    "collapsed": false
   },
   "outputs": [
    {
     "name": "stdout",
     "output_type": "stream",
     "text": [
      "[5, 6, 7, 8, '#', '#', '#', '#', 9, 10, '#', '#', '#']\n",
      "[5, 6, 7, 8, '#', '#', '#', '#', 9, 10, '#', '#', '#']\n"
     ]
    }
   ],
   "source": [
    "test = Node(5)\n",
    "test.left = Node(6)\n",
    "test.left.left = Node(7)\n",
    "test.left.left.left = Node(8)\n",
    "test.right = Node(9)\n",
    "test.right.left = Node(10)\n",
    "foo = serialize_tree(test)\n",
    "print foo\n",
    "bar = deserialize_tree(foo)\n",
    "print serialize_tree(bar)"
   ]
  },
  {
   "cell_type": "code",
   "execution_count": null,
   "metadata": {
    "collapsed": true
   },
   "outputs": [],
   "source": []
  }
 ],
 "metadata": {
  "kernelspec": {
   "display_name": "Python 2",
   "language": "python",
   "name": "python2"
  },
  "language_info": {
   "codemirror_mode": {
    "name": "ipython",
    "version": 2
   },
   "file_extension": ".py",
   "mimetype": "text/x-python",
   "name": "python",
   "nbconvert_exporter": "python",
   "pygments_lexer": "ipython2",
   "version": "2.7.6"
  }
 },
 "nbformat": 4,
 "nbformat_minor": 0
}
