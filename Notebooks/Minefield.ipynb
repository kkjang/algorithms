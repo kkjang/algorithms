{
 "cells": [
  {
   "cell_type": "code",
   "execution_count": 80,
   "metadata": {
    "collapsed": false
   },
   "outputs": [],
   "source": [
    "class MineField:\n",
    "    def getMineField(self, mineLocations):\n",
    "        mine_field = [[0 for i in range(9)] for j in range(9)]\n",
    "        if mineLocations:\n",
    "            mines = [(i[0], i[2]) for i in mineLocations.strip('()').split(')(')]\n",
    "            vectors = self.generate_vectors()\n",
    "            for mine in mines:\n",
    "                y, x = int(mine[0]), int(mine[1])\n",
    "                mine_field[y][x] = 'M'\n",
    "                self.increment_neighbors(mine_field, y, x, vectors)\n",
    "        return tuple(''.join(str(y) for y in x) for x in mine_field)\n",
    "            \n",
    "    def increment_neighbors(self, mine_field, y, x, vectors):\n",
    "        for vector in vectors:\n",
    "            new_y = y + vector[0]\n",
    "            new_x = x + vector[1]\n",
    "            if new_y <= 8 and new_y >= 0 and new_x <= 8 and new_x >= 0:\n",
    "                if mine_field[new_y][new_x] != 'M':\n",
    "                    mine_field[new_y][new_x] += 1     \n",
    "    \n",
    "    def generate_vectors(self):\n",
    "        vectors = set()\n",
    "        for i in [-1,0,1]:\n",
    "            for j in [-1,0,1]:\n",
    "                vectors.add((i,j))\n",
    "        return vectors\n",
    "    \n",
    "        "
   ]
  },
  {
   "cell_type": "code",
   "execution_count": 81,
   "metadata": {
    "collapsed": false
   },
   "outputs": [
    {
     "data": {
      "text/plain": [
       "('000000000',\n",
       " '000000000',\n",
       " '000000000',\n",
       " '000000000',\n",
       " '000000000',\n",
       " '000000000',\n",
       " '000000000',\n",
       " '000000000',\n",
       " '000000000')"
      ]
     },
     "execution_count": 81,
     "metadata": {},
     "output_type": "execute_result"
    }
   ],
   "source": [
    "test = \"\"\n",
    "foo = MineField()\n",
    "foo.getMineField(test)"
   ]
  }
 ],
 "metadata": {
  "kernelspec": {
   "display_name": "Python 2",
   "language": "python",
   "name": "python2"
  },
  "language_info": {
   "codemirror_mode": {
    "name": "ipython",
    "version": 2
   },
   "file_extension": ".py",
   "mimetype": "text/x-python",
   "name": "python",
   "nbconvert_exporter": "python",
   "pygments_lexer": "ipython2",
   "version": "2.7.6"
  }
 },
 "nbformat": 4,
 "nbformat_minor": 0
}
