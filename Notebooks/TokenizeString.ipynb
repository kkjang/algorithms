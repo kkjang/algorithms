{
 "cells": [
  {
   "cell_type": "code",
   "execution_count": 46,
   "metadata": {
    "collapsed": false
   },
   "outputs": [],
   "source": [
    "def strtok(arr):\n",
    "    return_array = []\n",
    "    begin = 0\n",
    "    while begin < len(arr):\n",
    "        if arr[begin].isalpha():\n",
    "            end = begin\n",
    "            while arr[end].isalpha():\n",
    "                end += 1\n",
    "                if end >= len(arr):\n",
    "                    break\n",
    "            return_array.append(arr[begin:end])\n",
    "            begin = end\n",
    "        else:\n",
    "            begin += 1\n",
    "    return return_array"
   ]
  },
  {
   "cell_type": "code",
   "execution_count": 51,
   "metadata": {
    "collapsed": false
   },
   "outputs": [
    {
     "data": {
      "text/plain": [
       "[]"
      ]
     },
     "execution_count": 51,
     "metadata": {},
     "output_type": "execute_result"
    }
   ],
   "source": [
    "strtok(\"'\")"
   ]
  }
 ],
 "metadata": {
  "kernelspec": {
   "display_name": "Python 2",
   "language": "python",
   "name": "python2"
  },
  "language_info": {
   "codemirror_mode": {
    "name": "ipython",
    "version": 2
   },
   "file_extension": ".py",
   "mimetype": "text/x-python",
   "name": "python",
   "nbconvert_exporter": "python",
   "pygments_lexer": "ipython2",
   "version": "2.7.6"
  }
 },
 "nbformat": 4,
 "nbformat_minor": 0
}
