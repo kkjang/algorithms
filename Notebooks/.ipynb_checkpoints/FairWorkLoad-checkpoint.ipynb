{
 "cells": [
  {
   "cell_type": "code",
   "execution_count": 11,
   "metadata": {
    "collapsed": false
   },
   "outputs": [],
   "source": [
    "class FairWorkload:\n",
    "    def getMostWork(self, folders, workers):\n",
    "        low = max(folders)\n",
    "        high = sum(folders)\n",
    "        while low < high:\n",
    "            max_load = low + (high - low) / 2\n",
    "            print low, high, max_load\n",
    "            current_load = 0\n",
    "            required_workers = 1\n",
    "            for val in folders:\n",
    "                if current_load + val > max_load:\n",
    "                    required_workers += 1\n",
    "                    current_load = 0\n",
    "                current_load += val\n",
    "            if required_workers <= workers:\n",
    "                high = max_load\n",
    "            else:\n",
    "                low = max_load + 1\n",
    "        return low"
   ]
  },
  {
   "cell_type": "code",
   "execution_count": 12,
   "metadata": {
    "collapsed": false
   },
   "outputs": [
    {
     "data": {
      "text/plain": [
       "150"
      ]
     },
     "execution_count": 12,
     "metadata": {},
     "output_type": "execute_result"
    }
   ],
   "source": [
    "test = [10, 20, 30, 40, 50, 60, 70, 80, 90]\n",
    "foo = FairWorkload()\n",
    "foo.getMostWork(test, 4)"
   ]
  }
 ],
 "metadata": {
  "kernelspec": {
   "display_name": "Python 2",
   "language": "python",
   "name": "python2"
  },
  "language_info": {
   "codemirror_mode": {
    "name": "ipython",
    "version": 2
   },
   "file_extension": ".py",
   "mimetype": "text/x-python",
   "name": "python",
   "nbconvert_exporter": "python",
   "pygments_lexer": "ipython2",
   "version": "2.7.6"
  }
 },
 "nbformat": 4,
 "nbformat_minor": 0
}
