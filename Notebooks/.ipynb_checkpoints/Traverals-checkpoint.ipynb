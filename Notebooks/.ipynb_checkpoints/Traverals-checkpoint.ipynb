{
 "cells": [
  {
   "cell_type": "code",
   "execution_count": 50,
   "metadata": {
    "collapsed": false
   },
   "outputs": [],
   "source": [
    "from collections import deque\n",
    "class Node:\n",
    "    def __init__(self, val):\n",
    "        self.val = val\n",
    "        self.left = None\n",
    "        self.right = None\n",
    "    def __str__(self):\n",
    "        return str(self.val)\n",
    "        \n",
    "def print_tree(root):\n",
    "    if root is None:\n",
    "        return\n",
    "    print root\n",
    "    print_tree(root.left)\n",
    "    print_tree(root.right)\n",
    "    \n",
    "\n",
    "def create_tree(val_list):\n",
    "    root = Node(val_list[0])\n",
    "    counter = 0\n",
    "    current = deque([root])\n",
    "    while current:\n",
    "        cur = current.popleft()\n",
    "        if counter < len(val_list)-1:\n",
    "            counter += 1\n",
    "            cur.left = Node(val_list[counter])\n",
    "            current.append(cur.left)\n",
    "        if counter < len(val_list)-1:\n",
    "            counter += 1\n",
    "            cur.right = Node(val_list[counter])\n",
    "            current.append(cur.right)\n",
    "    return root\n",
    "        \n",
    "def pre_order_iterative(root):\n",
    "    current = [root]\n",
    "    while current:\n",
    "        cur_node = current.pop()\n",
    "        print cur_node\n",
    "        if cur_node.right:       \n",
    "            current.append(cur_node.right)\n",
    "        if cur_node.left:\n",
    "            current.append(cur_node.left)\n",
    "\n",
    "def in_order_iterative(root):\n",
    "    current = []\n",
    "    cur_node = root\n",
    "    while cur_node or current:\n",
    "        while cur_node:\n",
    "            current.append(cur_node)\n",
    "            cur_node = cur_node.left\n",
    "        cur_node = current.pop()\n",
    "        print cur_node\n",
    "        cur_node = cur_node.right\n",
    "        \n",
    "def post_order_iterative(root):\n",
    "    reverse_stack = [root]\n",
    "    final_stack = deque()\n",
    "    while reverse_stack:\n",
    "        cur_node = reverse_stack.pop()\n",
    "        final_stack.appendleft(cur_node.val)\n",
    "        if cur_node.left:\n",
    "            reverse_stack.append(cur_node.left)\n",
    "        if cur_node.right:\n",
    "            reverse_stack.append(cur_node.right)\n",
    "    return final_stack\n",
    "            \n",
    "        "
   ]
  },
  {
   "cell_type": "code",
   "execution_count": 51,
   "metadata": {
    "collapsed": false
   },
   "outputs": [
    {
     "data": {
      "text/plain": [
       "deque([4, 5, 2, 6, 7, 3, 1])"
      ]
     },
     "execution_count": 51,
     "metadata": {},
     "output_type": "execute_result"
    }
   ],
   "source": [
    "test = [1,2,3,4,5,6,7]\n",
    "root = create_tree(test)\n",
    "# print_tree(root)\n",
    "post_order_iterative(root)"
   ]
  }
 ],
 "metadata": {
  "kernelspec": {
   "display_name": "Python 2",
   "language": "python",
   "name": "python2"
  },
  "language_info": {
   "codemirror_mode": {
    "name": "ipython",
    "version": 2
   },
   "file_extension": ".py",
   "mimetype": "text/x-python",
   "name": "python",
   "nbconvert_exporter": "python",
   "pygments_lexer": "ipython2",
   "version": "2.7.6"
  }
 },
 "nbformat": 4,
 "nbformat_minor": 0
}
