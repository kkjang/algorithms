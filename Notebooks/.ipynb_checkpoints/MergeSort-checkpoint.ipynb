{
 "cells": [
  {
   "cell_type": "code",
   "execution_count": 3,
   "metadata": {
    "collapsed": false
   },
   "outputs": [],
   "source": [
    "def merge_sort(arr):\n",
    "    if len(arr) > 1:\n",
    "        m = len(arr) / 2\n",
    "        left = arr[:m]\n",
    "        right = arr[m:]\n",
    "        merge_sort(left)\n",
    "        merge_sort(right)\n",
    "        \n",
    "        i=0\n",
    "        j=0\n",
    "        for k in range(len(arr)):\n",
    "            if i < len(left) and j < len(right):\n",
    "                if left[i] < right[j]:\n",
    "                    arr[k] = left[i]\n",
    "                    i += 1\n",
    "                else:\n",
    "                    arr[k] = right[j]\n",
    "                    j += 1\n",
    "            elif (i < len(left)):\n",
    "                arr[k] = left[i]\n",
    "                i += 1\n",
    "            else:\n",
    "                arr[k] = right[j]\n",
    "                j += 1\n",
    "    return arr\n",
    "                \n",
    "# def merge_sort(arr):\n",
    "#     while len(arr) > 1:\n",
    "#         mid = len(arr) / 2\n",
    "#         left = arr[:mid]\n",
    "#         right = arr[mid:]\n",
    "        \n",
    "#         merge_sort(left)\n",
    "#         merge_sort(right)\n",
    "        \n",
    "#         i = 0\n",
    "#         j = 0\n",
    "#         for k in range(len(arr)):\n",
    "#             if i < len(left) and j < len(right):\n",
    "#                 if left[i] < right[j]:\n",
    "#                     arr[k] = left[i]\n",
    "#                     i += 1\n",
    "#                 else:\n",
    "#                     arr[k] = right[j]\n",
    "#                     j += 1\n",
    "#                 continue\n",
    "#             if i < len(left):\n",
    "#                 arr[k] = left[i]\n",
    "#                 i += 1\n",
    "#             if j < len(right):\n",
    "#                 arr[k] = right[j]\n",
    "#                 j += 1\n",
    "#         return arr\n",
    "            \n",
    "        "
   ]
  },
  {
   "cell_type": "code",
   "execution_count": 5,
   "metadata": {
    "collapsed": false
   },
   "outputs": [
    {
     "name": "stdout",
     "output_type": "stream",
     "text": [
      "[1, 43, 97, 123, 156, 204, 311, 434, 495, 509, 613, 657, 693, 730, 820, 820, 913, 922, 930, 959]\n"
     ]
    }
   ],
   "source": [
    "import random\n",
    "test_list = [random.randint(1,1000) for _ in range(20)]\n",
    "foo = merge_sort(test_list)\n",
    "print foo"
   ]
  }
 ],
 "metadata": {
  "kernelspec": {
   "display_name": "Python 2",
   "language": "python",
   "name": "python2"
  },
  "language_info": {
   "codemirror_mode": {
    "name": "ipython",
    "version": 2
   },
   "file_extension": ".py",
   "mimetype": "text/x-python",
   "name": "python",
   "nbconvert_exporter": "python",
   "pygments_lexer": "ipython2",
   "version": "2.7.6"
  }
 },
 "nbformat": 4,
 "nbformat_minor": 0
}
