{
 "cells": [
  {
   "cell_type": "code",
   "execution_count": 17,
   "metadata": {
    "collapsed": false
   },
   "outputs": [],
   "source": [
    "def quick_sort(arr, begin = None, end = None):\n",
    "    if begin is None and end is None:\n",
    "        begin = 0\n",
    "        end = len(arr)\n",
    "    if end - begin > 1:\n",
    "        pivot = arr[begin]\n",
    "        swap = begin\n",
    "        for indx in range(begin+1, end):\n",
    "            if arr[indx] < pivot:\n",
    "                swap += 1\n",
    "                arr[swap], arr[indx] = arr[indx], arr[swap]\n",
    "        arr[begin], arr[swap] = arr[swap], arr[begin]\n",
    "        quick_sort(arr, begin, swap)\n",
    "        quick_sort(arr, swap + 1, end)\n",
    "    return arr\n",
    "\n"
   ]
  },
  {
   "cell_type": "code",
   "execution_count": 19,
   "metadata": {
    "collapsed": false
   },
   "outputs": [
    {
     "name": "stdout",
     "output_type": "stream",
     "text": [
      "[1, 3, 10, 15, 22, 30, 42, 45, 51, 61, 67, 69, 74, 81, 89]\n"
     ]
    }
   ],
   "source": [
    "test = [30,15,22,89,51,61,42,81,69,45,74,3,67,1,10]\n",
    "print quick_sort_in_place(test)"
   ]
  }
 ],
 "metadata": {
  "kernelspec": {
   "display_name": "Python 2",
   "language": "python",
   "name": "python2"
  },
  "language_info": {
   "codemirror_mode": {
    "name": "ipython",
    "version": 2
   },
   "file_extension": ".py",
   "mimetype": "text/x-python",
   "name": "python",
   "nbconvert_exporter": "python",
   "pygments_lexer": "ipython2",
   "version": "2.7.6"
  }
 },
 "nbformat": 4,
 "nbformat_minor": 0
}
