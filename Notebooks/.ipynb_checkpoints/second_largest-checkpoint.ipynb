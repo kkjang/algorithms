{
 "cells": [
  {
   "cell_type": "code",
   "execution_count": 28,
   "metadata": {
    "collapsed": false
   },
   "outputs": [],
   "source": [
    "# run through once, keep track of max and second max\n",
    "def second_largest(arr):\n",
    "    cur_max = None\n",
    "    second_max = None\n",
    "    for num in arr:\n",
    "        if num > cur_max:\n",
    "            second_max = cur_max\n",
    "            cur_max = num\n",
    "        else:\n",
    "            if num > second_max and num != cur_max:\n",
    "                second_max = num\n",
    "    return second_max\n"
   ]
  },
  {
   "cell_type": "code",
   "execution_count": 35,
   "metadata": {
    "collapsed": false
   },
   "outputs": [
    {
     "name": "stdout",
     "output_type": "stream",
     "text": [
      "28\n"
     ]
    }
   ],
   "source": [
    "import random\n",
    "test = [15,100,25,26,27,28,20]\n",
    "print second_largest(test)"
   ]
  }
 ],
 "metadata": {
  "kernelspec": {
   "display_name": "Python 2",
   "language": "python",
   "name": "python2"
  },
  "language_info": {
   "codemirror_mode": {
    "name": "ipython",
    "version": 2
   },
   "file_extension": ".py",
   "mimetype": "text/x-python",
   "name": "python",
   "nbconvert_exporter": "python",
   "pygments_lexer": "ipython2",
   "version": "2.7.6"
  }
 },
 "nbformat": 4,
 "nbformat_minor": 0
}
