{
 "cells": [
  {
   "cell_type": "code",
   "execution_count": 39,
   "metadata": {
    "collapsed": true
   },
   "outputs": [],
   "source": [
    "class Node:\n",
    "    def __init__(self, val):\n",
    "        self.val = val\n",
    "        self.next = None\n",
    "        self.previous = None\n",
    "    def __str__(self):\n",
    "        return str(self.val)\n",
    "\n",
    "class DoublyLinkedList:\n",
    "    def __init__(self):\n",
    "        self.head = None\n",
    "        self.tail = None\n",
    "    def clean(self, node):\n",
    "        node.next = None\n",
    "        node.previous = None\n",
    "    def insert_left(self, node):\n",
    "        self.clean(node)\n",
    "        if self.head is None:\n",
    "            self.tail = node\n",
    "        else:\n",
    "            node.next = self.head\n",
    "            self.head.previous = node\n",
    "        self.head = node\n",
    "    def pop_left(self):\n",
    "        if self.head is None:\n",
    "            return None\n",
    "        old_head = self.head\n",
    "        self.head = self.head.next\n",
    "        if self.head is None:\n",
    "            self.tail = None\n",
    "        else:\n",
    "            self.head.previous = None\n",
    "        self.clean(old_head)\n",
    "        return old_head\n",
    "    def insert_right(self, node):\n",
    "        self.clean(node)\n",
    "        if self.tail is None:\n",
    "            self.head = node\n",
    "        else:\n",
    "            self.tail.next = node\n",
    "            node.previous = self.tail\n",
    "        self.tail = node\n",
    "    def pop_right(self):\n",
    "        if self.tail is None:\n",
    "            return None\n",
    "        old_tail = self.tail\n",
    "        self.tail = self.tail.previous\n",
    "        if self.tail is None:\n",
    "            self.head = None\n",
    "        else:\n",
    "            self.tail.next = None\n",
    "        self.clean(old_tail)\n",
    "        return old_tail\n",
    "    def reverse(self):\n",
    "        current = self.head\n",
    "        while current:\n",
    "            current.next, current.previous = current.previous, current.next\n",
    "            current = current.previous\n",
    "        self.head, self.tail = self.tail, self.head\n",
    "    \n",
    "class Queue:\n",
    "    def __init__(self):\n",
    "        self.data = DoublyLinkedList()\n",
    "    def __str__(self):\n",
    "        return_list = []\n",
    "        current = self.data.head\n",
    "        while current:\n",
    "            return_list.append(current.val)\n",
    "            current = current.next\n",
    "        return ' '.join(str(x) for x in return_list)\n",
    "    def enqueue(self, val):\n",
    "        node = Node(val)\n",
    "        self.data.insert_right(node)\n",
    "    def dequeue(self):\n",
    "        node = self.data.pop_left()\n",
    "        return node"
   ]
  },
  {
   "cell_type": "code",
   "execution_count": 47,
   "metadata": {
    "collapsed": false
   },
   "outputs": [
    {
     "name": "stdout",
     "output_type": "stream",
     "text": [
      "5 8\n",
      "8 6 5 6\n",
      "8 6\n"
     ]
    }
   ],
   "source": [
    "test = Queue()\n",
    "test.enqueue(5)\n",
    "test.enqueue(6)\n",
    "test.enqueue(8)\n",
    "print test.data.head, test.data.tail\n",
    "test.data.reverse()\n",
    "test.enqueue(6)\n",
    "print test\n",
    "print test.data.head, test.data.tail"
   ]
  }
 ],
 "metadata": {
  "kernelspec": {
   "display_name": "Python 2",
   "language": "python",
   "name": "python2"
  },
  "language_info": {
   "codemirror_mode": {
    "name": "ipython",
    "version": 2
   },
   "file_extension": ".py",
   "mimetype": "text/x-python",
   "name": "python",
   "nbconvert_exporter": "python",
   "pygments_lexer": "ipython2",
   "version": "2.7.6"
  }
 },
 "nbformat": 4,
 "nbformat_minor": 0
}
