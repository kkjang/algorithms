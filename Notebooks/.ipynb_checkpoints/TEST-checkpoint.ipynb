{
 "cells": [
  {
   "cell_type": "code",
   "execution_count": null,
   "metadata": {
    "collapsed": false
   },
   "outputs": [],
   "source": [
    "def merge_sort(arr):\n",
    "    if len(arr) > 1:\n",
    "        mid = len(arr) / 2\n",
    "        left = arr[:mid]\n",
    "        right = arr[mid:]\n",
    "        \n",
    "        merge_sort(left)\n",
    "        merge_sort(right)\n",
    "        \n",
    "        i, j = 0,0\n",
    "        for k in range(len(arr)):\n",
    "            if i < len(left) and j < len(right):\n",
    "                if left[i] < right[j]:\n",
    "                    arr[k] = left[i]\n",
    "                    i += 1\n",
    "                else:\n",
    "                    arr[k] = right[j]\n",
    "                    j += 1\n",
    "                continue\n",
    "            if i < len(left):\n",
    "                arr[k] = left[i]\n",
    "                i += 1\n",
    "            if j < len(right):\n",
    "                arr[k] = right[j]\n",
    "                j += 1\n",
    "                \n",
    "def bubble_sort(arr):\n",
    "    #for n - 1 iterations\n",
    "    for i in range(len(arr) - 1): \n",
    "        swap = False\n",
    "        # swapping j and j+1, makes sure no index problems\n",
    "        for j in range(len(arr)-1):\n",
    "            if arr[j] > arr[j+1]:\n",
    "                swap = True\n",
    "                tmp = arr[j+1]\n",
    "                arr[j+1] = arr[j]\n",
    "                arr[j] = tmp\n",
    "            print arr\n",
    "        if swap == False:\n",
    "            break\n",
    "            \n",
    "def bubble_sort2(arr):\n",
    "    count = 0\n",
    "    for i in range(len(arr)-1):\n",
    "        for j in range(len(arr)- 1):\n",
    "            count += 1\n",
    "            if arr[j] > arr[j+1]:\n",
    "                tmp = arr[j+1]\n",
    "                arr[j+1] = arr[j]\n",
    "                arr[j] = tmp\n",
    "    return arr, count"
   ]
  },
  {
   "cell_type": "code",
   "execution_count": null,
   "metadata": {
    "collapsed": false
   },
   "outputs": [],
   "source": [
    "test = [2,3,4,5,1]\n",
    "# merge_sort(test)\n",
    "bubble_sort(test)\n",
    "print test"
   ]
  },
  {
   "cell_type": "code",
   "execution_count": null,
   "metadata": {
    "collapsed": false
   },
   "outputs": [],
   "source": [
    "foo = [19, 20, 22, 25, 28]\n",
    "graph = []\n",
    "minimum = 19\n",
    "maximum = 28\n",
    "increment = (maximum - minimum) / 8.0\n",
    "for i in range(len(foo)):\n",
    "    current = minimum\n",
    "    counter = 0\n",
    "    found = False\n",
    "    while not found:\n",
    "        upper = current + increment\n",
    "        if foo[i] >= current and foo[i] < upper:\n",
    "            graph.append(counter)\n",
    "            found = True\n",
    "        current = upper\n",
    "        counter += 1\n",
    "        \n",
    "print graph\n",
    "    "
   ]
  },
  {
   "cell_type": "code",
   "execution_count": null,
   "metadata": {
    "collapsed": false
   },
   "outputs": [],
   "source": [
    "def binary_search(arr, val):\n",
    "    found = False\n",
    "    i = 0\n",
    "    j = len(arr) - 1\n",
    "    while i <= j:\n",
    "        mid = (i + j) / 2\n",
    "        if val == arr[mid]:\n",
    "            return 'found'\n",
    "        elif val < arr[mid]:\n",
    "            j = mid - 1\n",
    "        else:\n",
    "            i = mid + 1\n",
    "    return 'not found'\n",
    "        \n",
    "        "
   ]
  },
  {
   "cell_type": "code",
   "execution_count": null,
   "metadata": {
    "collapsed": false
   },
   "outputs": [],
   "source": [
    "foo = [1,3,10,16,23,34,58, 73,84,98,104]\n",
    "binary_search(foo, 1)"
   ]
  },
  {
   "cell_type": "code",
   "execution_count": null,
   "metadata": {
    "collapsed": false
   },
   "outputs": [],
   "source": [
    "test = range(1,20)\n",
    "print test"
   ]
  },
  {
   "cell_type": "code",
   "execution_count": null,
   "metadata": {
    "collapsed": true
   },
   "outputs": [],
   "source": [
    "def quick_sort(arr, begin = None, end = None):\n",
    "    if begin is None:\n",
    "        begin = 0\n",
    "    if end is None:\n",
    "        end = len(arr)\n",
    "    if (end - begin) > 1:\n",
    "        pivot = arr[begin]\n",
    "        swap = begin\n",
    "        for i in range(begin+1, end):\n",
    "            if arr[i] < pivot:\n",
    "                swap += 1\n",
    "                tmp = arr[i]\n",
    "                arr[i] = arr[swap]\n",
    "                arr[swap] = tmp\n",
    "        tmp = arr[swap]\n",
    "        arr[swap] = pivot\n",
    "        arr[begin] = tmp\n",
    "        \n",
    "        quick_sort(arr, begin, swap)\n",
    "        quick_sort(arr, swap+1, end)\n",
    "    "
   ]
  },
  {
   "cell_type": "code",
   "execution_count": null,
   "metadata": {
    "collapsed": false
   },
   "outputs": [],
   "source": [
    "test = [19, 28, 9, 10, 6, 16, 8, 1, 4, 24, 10, 2, 8, 3, 9, 13, 4, 10, 19, 1, 8, 18, 1, 5, 10, 17, 6, 26, 6, 10]\n",
    "quick_sort(test)\n",
    "print test"
   ]
  },
  {
   "cell_type": "code",
   "execution_count": 7,
   "metadata": {
    "collapsed": true
   },
   "outputs": [],
   "source": [
    "class Queue(object):\n",
    "    def __init__(self):\n",
    "        \"\"\"\n",
    "        initialize your data structure here.\n",
    "        \"\"\"\n",
    "        self.incoming = list()\n",
    "        self.outgoing = list()\n",
    "\n",
    "    def push(self, x):\n",
    "        \"\"\"\n",
    "        :type x: int\n",
    "        :rtype: nothing\n",
    "        \"\"\"\n",
    "        self.incoming.append(x)\n",
    "\n",
    "    def pop(self):\n",
    "        \"\"\"\n",
    "        :rtype: nothing\n",
    "        \"\"\"\n",
    "        if self.outgoing:\n",
    "            self.outgoing.pop()\n",
    "        else:\n",
    "            for i in range(len(self.incoming)):\n",
    "                self.outgoing.append(self.incoming.pop())\n",
    "            self.outgoing.pop()\n",
    "\n",
    "    def peek(self):\n",
    "        \"\"\"\n",
    "        :rtype: int\n",
    "        \"\"\"\n",
    "        print self.incoming, self.outgoing\n",
    "        if self.outgoing:\n",
    "            return self.outgoing[-1]\n",
    "        else:\n",
    "            for i in range(len(self.incoming)):\n",
    "                self.outgoing.append(self.incoming.pop())\n",
    "            print self.outgoing\n",
    "            return self.outgoing[-1]\n",
    "        \n",
    "    def empty(self):\n",
    "        \"\"\"\n",
    "        :rtype: bool\n",
    "        \"\"\"\n",
    "        return not self.outgoing and not self.incoming\n",
    "        "
   ]
  },
  {
   "cell_type": "code",
   "execution_count": 8,
   "metadata": {
    "collapsed": false
   },
   "outputs": [
    {
     "name": "stdout",
     "output_type": "stream",
     "text": [
      "[1, 2] []\n",
      "[2, 1]\n"
     ]
    },
    {
     "data": {
      "text/plain": [
       "1"
      ]
     },
     "execution_count": 8,
     "metadata": {},
     "output_type": "execute_result"
    }
   ],
   "source": [
    "test = Queue()\n",
    "test.push(1)\n",
    "test.push(2)\n",
    "test.peek()"
   ]
  }
 ],
 "metadata": {
  "kernelspec": {
   "display_name": "Python 2",
   "language": "python",
   "name": "python2"
  },
  "language_info": {
   "codemirror_mode": {
    "name": "ipython",
    "version": 2
   },
   "file_extension": ".py",
   "mimetype": "text/x-python",
   "name": "python",
   "nbconvert_exporter": "python",
   "pygments_lexer": "ipython2",
   "version": "2.7.6"
  }
 },
 "nbformat": 4,
 "nbformat_minor": 0
}
