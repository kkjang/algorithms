{
 "cells": [
  {
   "cell_type": "code",
   "execution_count": 32,
   "metadata": {
    "collapsed": false
   },
   "outputs": [],
   "source": [
    "def merge_sort(arr):\n",
    "    if len(arr) > 1:\n",
    "        mid = len(arr) / 2\n",
    "        left = arr[:mid]\n",
    "        right = arr[mid:]\n",
    "        \n",
    "        merge_sort(left)\n",
    "        merge_sort(right)\n",
    "        \n",
    "        i, j = 0,0\n",
    "        for k in range(len(arr)):\n",
    "            if i < len(left) and j < len(right):\n",
    "                if left[i] < right[j]:\n",
    "                    arr[k] = left[i]\n",
    "                    i += 1\n",
    "                else:\n",
    "                    arr[k] = right[j]\n",
    "                    j += 1\n",
    "                continue\n",
    "            if i < len(left):\n",
    "                arr[k] = left[i]\n",
    "                i += 1\n",
    "            if j < len(right):\n",
    "                arr[k] = right[j]\n",
    "                j += 1\n",
    "                \n",
    "def bubble_sort(arr):\n",
    "    #for n - 1 iterations\n",
    "    for i in range(len(arr) - 1): \n",
    "        swap = False\n",
    "        # swapping j and j+1, makes sure no index problems\n",
    "        for j in range(len(arr)-1):\n",
    "            if arr[j] > arr[j+1]:\n",
    "                swap = True\n",
    "                tmp = arr[j+1]\n",
    "                arr[j+1] = arr[j]\n",
    "                arr[j] = tmp\n",
    "            print arr\n",
    "        if swap == False:\n",
    "            break\n",
    "            \n",
    "def bubble_sort2(arr):\n",
    "    count = 0\n",
    "    for i in range(len(arr)-1):\n",
    "        for j in range(len(arr)- 1):\n",
    "            count += 1\n",
    "            if arr[j] > arr[j+1]:\n",
    "                tmp = arr[j+1]\n",
    "                arr[j+1] = arr[j]\n",
    "                arr[j] = tmp\n",
    "    return arr, count"
   ]
  },
  {
   "cell_type": "code",
   "execution_count": 1,
   "metadata": {
    "collapsed": false
   },
   "outputs": [
    {
     "ename": "NameError",
     "evalue": "name 'bubble_sort' is not defined",
     "output_type": "error",
     "traceback": [
      "\u001b[1;31m---------------------------------------------------------------------------\u001b[0m",
      "\u001b[1;31mNameError\u001b[0m                                 Traceback (most recent call last)",
      "\u001b[1;32m<ipython-input-1-d43d872843df>\u001b[0m in \u001b[0;36m<module>\u001b[1;34m()\u001b[0m\n\u001b[0;32m      1\u001b[0m \u001b[0mtest\u001b[0m \u001b[1;33m=\u001b[0m \u001b[1;33m[\u001b[0m\u001b[1;36m2\u001b[0m\u001b[1;33m,\u001b[0m\u001b[1;36m3\u001b[0m\u001b[1;33m,\u001b[0m\u001b[1;36m4\u001b[0m\u001b[1;33m,\u001b[0m\u001b[1;36m5\u001b[0m\u001b[1;33m,\u001b[0m\u001b[1;36m1\u001b[0m\u001b[1;33m]\u001b[0m\u001b[1;33m\u001b[0m\u001b[0m\n\u001b[0;32m      2\u001b[0m \u001b[1;31m# merge_sort(test)\u001b[0m\u001b[1;33m\u001b[0m\u001b[1;33m\u001b[0m\u001b[0m\n\u001b[1;32m----> 3\u001b[1;33m \u001b[0mbubble_sort\u001b[0m\u001b[1;33m(\u001b[0m\u001b[0mtest\u001b[0m\u001b[1;33m)\u001b[0m\u001b[1;33m\u001b[0m\u001b[0m\n\u001b[0m\u001b[0;32m      4\u001b[0m \u001b[1;32mprint\u001b[0m \u001b[0mtest\u001b[0m\u001b[1;33m\u001b[0m\u001b[0m\n",
      "\u001b[1;31mNameError\u001b[0m: name 'bubble_sort' is not defined"
     ]
    }
   ],
   "source": [
    "test = [2,3,4,5,1]\n",
    "# merge_sort(test)\n",
    "bubble_sort(test)\n",
    "print test"
   ]
  },
  {
   "cell_type": "code",
   "execution_count": 7,
   "metadata": {
    "collapsed": false
   },
   "outputs": [
    {
     "name": "stdout",
     "output_type": "stream",
     "text": [
      "[0, 0, 2, 5, 8]\n"
     ]
    }
   ],
   "source": [
    "foo = [19, 20, 22, 25, 28]\n",
    "graph = []\n",
    "minimum = 19\n",
    "maximum = 28\n",
    "increment = (maximum - minimum) / 8.0\n",
    "for i in range(len(foo)):\n",
    "    current = minimum\n",
    "    counter = 0\n",
    "    found = False\n",
    "    while not found:\n",
    "        upper = current + increment\n",
    "        if foo[i] >= current and foo[i] < upper:\n",
    "            graph.append(counter)\n",
    "            found = True\n",
    "        current = upper\n",
    "        counter += 1\n",
    "        \n",
    "print graph\n",
    "    "
   ]
  }
 ],
 "metadata": {
  "kernelspec": {
   "display_name": "Python 2",
   "language": "python",
   "name": "python2"
  },
  "language_info": {
   "codemirror_mode": {
    "name": "ipython",
    "version": 2
   },
   "file_extension": ".py",
   "mimetype": "text/x-python",
   "name": "python",
   "nbconvert_exporter": "python",
   "pygments_lexer": "ipython2",
   "version": "2.7.6"
  }
 },
 "nbformat": 4,
 "nbformat_minor": 0
}
