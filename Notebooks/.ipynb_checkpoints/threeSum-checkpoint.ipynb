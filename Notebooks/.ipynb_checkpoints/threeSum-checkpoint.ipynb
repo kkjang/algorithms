{
 "cells": [
  {
   "cell_type": "code",
   "execution_count": 1,
   "metadata": {
    "collapsed": true
   },
   "outputs": [],
   "source": [
    "class Solution(object):\n",
    "    def threeSum(self, nums):\n",
    "        \"\"\"\n",
    "        :type nums: List[int]\n",
    "        :rtype: List[List[int]]\n",
    "        \"\"\"\n",
    "        solution_list = list()\n",
    "        nums.sort()\n",
    "        for indx in range(len(nums)-2):\n",
    "            begin = indx + 1\n",
    "            end = len(nums) - 1\n",
    "            search = 0 - nums[indx]\n",
    "            while begin < end:\n",
    "                if nums[begin] + nums[end] == search:\n",
    "                    candidate = [nums[indx], nums[begin], nums[end]]\n",
    "                    if candidate not in solution_list:\n",
    "                        solution_list.append(candidate)\n",
    "                    begin += 1\n",
    "                    end -= 1\n",
    "                elif nums[begin] + nums[end] > search:\n",
    "                    end -= 1\n",
    "                else:\n",
    "                    begin += 1\n",
    "        return solution_list\n",
    "            \n",
    "            "
   ]
  },
  {
   "cell_type": "code",
   "execution_count": 2,
   "metadata": {
    "collapsed": false
   },
   "outputs": [
    {
     "data": {
      "text/plain": [
       "[[-1, -1, 2], [-1, 0, 1]]"
      ]
     },
     "execution_count": 2,
     "metadata": {},
     "output_type": "execute_result"
    }
   ],
   "source": [
    "test = Solution()\n",
    "nums = [-1, 0, 1, 2, -1, -4]\n",
    "test.threeSum(nums)"
   ]
  }
 ],
 "metadata": {
  "kernelspec": {
   "display_name": "Python 2",
   "language": "python",
   "name": "python2"
  },
  "language_info": {
   "codemirror_mode": {
    "name": "ipython",
    "version": 2
   },
   "file_extension": ".py",
   "mimetype": "text/x-python",
   "name": "python",
   "nbconvert_exporter": "python",
   "pygments_lexer": "ipython2",
   "version": "2.7.6"
  }
 },
 "nbformat": 4,
 "nbformat_minor": 0
}
