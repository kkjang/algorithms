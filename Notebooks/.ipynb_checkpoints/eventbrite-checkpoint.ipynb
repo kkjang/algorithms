{
 "cells": [
  {
   "cell_type": "code",
   "execution_count": 6,
   "metadata": {
    "collapsed": false
   },
   "outputs": [],
   "source": [
    "\"\"\"Thanks for your interest in working at Eventbrite!\n",
    "\n",
    "As an exercise, please complete the triangle() method below. We've\n",
    "decided to be helpful and start you off on a good foot: the triangle()\n",
    "function has a unit test that should pass, in test_triangle(), and\n",
    "uses a helper called create_triangle_base that is also unit tested.\n",
    "Once you complete the triangle() function, you should be able to run\n",
    "this script and instructions will appear.\n",
    "\"\"\"\n",
    "\n",
    "\n",
    "import itertools\n",
    "\n",
    "\n",
    "\n",
    "def triangle(input_string):\n",
    "    \"\"\"Takes an input string and creates a \"triangle\".\n",
    "\n",
    "    A triangle here is defined as a list of lists, where the first\n",
    "    element is a list with only the first letter from the string,\n",
    "    the second element is the first two letters from the string,\n",
    "    etc.\n",
    "\n",
    "    Uses create_triangle_base to construct a base with the correct length.\n",
    "    \"\"\"\n",
    "    triangle_base = create_triangle_base(input_string)\n",
    "\n",
    "    # Must make a dereferenced copy of elem so that modifications do not modify the entire base\n",
    "    for indx, elem in enumerate(triangle_base):\n",
    "        if indx > 0:\n",
    "            elem_copy = triangle_base[indx-1][:]\n",
    "            elem_copy += input_string[indx]\n",
    "            triangle_base[indx] = elem_copy\n",
    "    print triangle_base\n",
    "    return triangle_base\n",
    "\n",
    "\n",
    "\n",
    "def test_triangle():\n",
    "    expected = [\n",
    "        ['e'],\n",
    "        ['ev'],\n",
    "        ['eve'],\n",
    "        ['even'],\n",
    "        ['event'],\n",
    "        ['eventb'],\n",
    "        ['eventbr'],\n",
    "        ['eventbri'],\n",
    "        ['eventbrit'],\n",
    "        ['eventbrite'],\n",
    "    ]\n",
    "    assert(triangle('eventbrite') == expected)\n",
    "\n",
    "\n",
    "def create_triangle_base(input_string):\n",
    "    \"\"\"Takes a string and returns a list of lists.\n",
    "\n",
    "    This list of lists will have the same length as the input string,\n",
    "    and the first element in each list will be the first letter of\n",
    "    the input string.\n",
    "    \"\"\"\n",
    "    # Take the assignment out of the parameter list so c has proper scope\n",
    "    c = []\n",
    "    c.append(input_string[0])\n",
    "    return list(itertools.repeat(c, len(input_string)))\n",
    "\n",
    "\n",
    "def test_create_triangle_base():\n",
    "    expected = [\n",
    "        ['e'],\n",
    "        ['e'],\n",
    "        ['e'],\n",
    "        ['e'],\n",
    "        ['e'],\n",
    "        ['e'],\n",
    "        ['e'],\n",
    "        ['e'],\n",
    "        ['e'],\n",
    "        ['e'],\n",
    "    ]\n",
    "    assert(create_triangle_base('eventbrite') == expected)\n",
    "\n",
    "\n",
    "def main():\n",
    "    print 'Thanks for your interest in working at Eventbrite!'\n",
    "    print 'If you write your triangle() function correctly, instructions will appear below...'\n",
    "    test_create_triangle_base()\n",
    "    try:\n",
    "        test_triangle()\n",
    "    except:\n",
    "        msg = 'Best of luck with the challenge!'\n",
    "    else:\n",
    "        # The below should work properly if you complete test_triangle.\n",
    "        # You really shouldn't have to mess with it / worry about it.\n",
    "        key = triangle('Eventbrite is awesome!')\n",
    "        new_ = lambda x, c=__import__('cStringIO').StringIO(): c.writelines(__import__('functools').partial(map, lambda x: next(iter(x)))(x))\n",
    "        new_(key)\n",
    "        k = __import__('hashlib').md5(new_.func_defaults[0].getvalue()).hexdigest()\n",
    "        z = ('i&zD\\'w5UITy6w\"cLOxM}5WV7P|Yw (H}-YzYx!*DVO*{DvSTa/M&}b[ G7U.z L|.9\"L\"w5c%V&#0|RNa,'\n",
    "             'S1ZYL&VyT\"-zf ),51x*5)VGy*83EUF7E&*DJ a1Q.+5Y~-/#H3s$Fc_%,)3WVN-Xz%QfxU7C8~~S~9(vPxv5+CJ~zu|XtR1')\n",
    "        msg = ''.join(chr((ord(a) - ord(b)) % 95 + 32) for a, b, in zip(z, (k*20)[:len(z)]))\n",
    "    print msg"
   ]
  },
  {
   "cell_type": "code",
   "execution_count": 7,
   "metadata": {
    "collapsed": false
   },
   "outputs": [
    {
     "name": "stdout",
     "output_type": "stream",
     "text": [
      "Thanks for your interest in working at Eventbrite!\n",
      "If you write your triangle() function correctly, instructions will appear below...\n",
      "[['e'], ['e', 'v'], ['e', 'v', 'e'], ['e', 'v', 'e', 'n'], ['e', 'v', 'e', 'n', 't'], ['e', 'v', 'e', 'n', 't', 'b'], ['e', 'v', 'e', 'n', 't', 'b', 'r'], ['e', 'v', 'e', 'n', 't', 'b', 'r', 'i'], ['e', 'v', 'e', 'n', 't', 'b', 'r', 'i', 't'], ['e', 'v', 'e', 'n', 't', 'b', 'r', 'i', 't', 'e']]\n",
      "Best of luck with the challenge!\n"
     ]
    }
   ],
   "source": [
    "main()\n"
   ]
  }
 ],
 "metadata": {
  "kernelspec": {
   "display_name": "Python 2",
   "language": "python",
   "name": "python2"
  },
  "language_info": {
   "codemirror_mode": {
    "name": "ipython",
    "version": 2
   },
   "file_extension": ".py",
   "mimetype": "text/x-python",
   "name": "python",
   "nbconvert_exporter": "python",
   "pygments_lexer": "ipython2",
   "version": "2.7.6"
  }
 },
 "nbformat": 4,
 "nbformat_minor": 0
}
