{
 "cells": [
  {
   "cell_type": "code",
   "execution_count": 2,
   "metadata": {
    "collapsed": true
   },
   "outputs": [],
   "source": [
    "class LinkedList:\n",
    "    def __init__(self):\n",
    "        self.head = None\n",
    "    def __str__(self):\n",
    "        data_list = []\n",
    "        current = self.head\n",
    "        while current:\n",
    "            data_list.append(current.val)\n",
    "            current = current.next\n",
    "        if not data_list:\n",
    "            raise LinkedListException('Linked List is empty.')\n",
    "        return ' '.join(str(x) for x in data_list)\n",
    "    def add(self, val):\n",
    "        if self.head is None:\n",
    "            self.head = Node(val)\n",
    "        else:\n",
    "            new_node = Node(val)\n",
    "            new_node.next = self.head\n",
    "            self.head = new_node\n",
    "    def reverse(self):\n",
    "        previous = None\n",
    "        current = self.head\n",
    "        while current:\n",
    "            next = current.next\n",
    "            current.next = previous\n",
    "            previous, current = current, next\n",
    "        self.head = previous\n",
    "        \n",
    "class LinkedListException(Exception):\n",
    "    pass\n",
    "\n",
    "class Node:\n",
    "    def __init__(self, val):\n",
    "        self.val = val\n",
    "        self.next = None"
   ]
  },
  {
   "cell_type": "code",
   "execution_count": 7,
   "metadata": {
    "collapsed": false
   },
   "outputs": [
    {
     "name": "stdout",
     "output_type": "stream",
     "text": [
      "\n"
     ]
    }
   ],
   "source": [
    "test = LinkedList()\n",
    "test.reverse()\n",
    "print test"
   ]
  }
 ],
 "metadata": {
  "kernelspec": {
   "display_name": "Python 2",
   "language": "python",
   "name": "python2"
  },
  "language_info": {
   "codemirror_mode": {
    "name": "ipython",
    "version": 2
   },
   "file_extension": ".py",
   "mimetype": "text/x-python",
   "name": "python",
   "nbconvert_exporter": "python",
   "pygments_lexer": "ipython2",
   "version": "2.7.6"
  }
 },
 "nbformat": 4,
 "nbformat_minor": 0
}
