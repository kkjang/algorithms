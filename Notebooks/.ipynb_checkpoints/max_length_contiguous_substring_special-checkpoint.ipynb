{
 "cells": [
  {
   "cell_type": "code",
   "execution_count": 34,
   "metadata": {
    "collapsed": false
   },
   "outputs": [],
   "source": [
    "#http://www.careercup.com/question?id=5684697990430720\n",
    "import sys\n",
    "def get_max_length(array):\n",
    "    if len(array) < 2:\n",
    "        return 0\n",
    "    max_count = 1\n",
    "    for index in range(len(array)):\n",
    "        start = index\n",
    "        end = len(array) - 1\n",
    "        reset = True\n",
    "        level = -1\n",
    "        while True:\n",
    "            if reset:\n",
    "                level += 1\n",
    "                start = index\n",
    "                end = len(array) - level - 1\n",
    "                if start >= end:\n",
    "                    break\n",
    "                if array[start] < array[end]:\n",
    "                    start_small = True\n",
    "                    max_small = array[start]\n",
    "                    min_large = array[end]\n",
    "                else:\n",
    "                    start_small = False\n",
    "                    max_small = array[end]\n",
    "                    min_large = array[start]\n",
    "                cur_count = 0\n",
    "                reset = False\n",
    "#             print index, start, end, start_small, level, cur_count\n",
    "            if start_small:\n",
    "                max_small = max(array[start], max_small)\n",
    "                min_large = min(array[end], min_large)\n",
    "                if array[end] < max_small or array[start] > min_large:\n",
    "                    reset = True\n",
    "                    continue\n",
    "            else:\n",
    "                max_small = max(array[end], max_small)\n",
    "                min_large = min(array[start], min_large)\n",
    "                if array[end] > min_large or array[start] < max_small:\n",
    "                    reset = True\n",
    "                    continue\n",
    "            cur_count += 1\n",
    "            if cur_count > max_count:\n",
    "                max_count = cur_count\n",
    "                print max_small, min_large, start, end, index\n",
    "                print 'new_max', cur_count, array[start: end+1], start_small\n",
    "            start += 1\n",
    "            end -= 1\n",
    "            if end < start:\n",
    "                reset = True\n",
    "                continue\n",
    "    return max_count\n",
    "            \n",
    "        "
   ]
  },
  {
   "cell_type": "code",
   "execution_count": 38,
   "metadata": {
    "collapsed": false
   },
   "outputs": [
    {
     "name": "stdout",
     "output_type": "stream",
     "text": [
      "[335, 467, 276, 263, 428, 457, 893, 982, 31, 612, 756, 596, 528, 361, 791, 311, 591, 383, 172, 453, 276, 364, 748, 745, 19, 976, 781, 307, 672, 57, 891, 572, 106, 707, 899, 648, 705, 240, 938, 827]\n",
      "467 827 1 38 0\n",
      "new_max 2 [467, 276, 263, 428, 457, 893, 982, 31, 612, 756, 596, 528, 361, 791, 311, 591, 383, 172, 453, 276, 364, 748, 745, 19, 976, 781, 307, 672, 57, 891, 572, 106, 707, 899, 648, 705, 240, 938] True\n",
      "467 648 2 34 0\n",
      "new_max 3 [276, 263, 428, 457, 893, 982, 31, 612, 756, 596, 528, 361, 791, 311, 591, 383, 172, 453, 276, 364, 748, 745, 19, 976, 781, 307, 672, 57, 891, 572, 106, 707, 899] True\n",
      "467 648 3 33 0\n",
      "new_max 4 [263, 428, 457, 893, 982, 31, 612, 756, 596, 528, 361, 791, 311, 591, 383, 172, 453, 276, 364, 748, 745, 19, 976, 781, 307, 672, 57, 891, 572, 106, 707] True\n"
     ]
    },
    {
     "data": {
      "text/plain": [
       "4"
      ]
     },
     "execution_count": 38,
     "metadata": {},
     "output_type": "execute_result"
    }
   ],
   "source": [
    "\n",
    "import random\n",
    "rand_list = list(reversed([random.randint(1,1000) for _ in range(40)]))\n",
    "# test = [58, 961, 231, 549, 657, 762, 106, 502, 668]\n",
    "print rand_list\n",
    "get_max_length(rand_list)"
   ]
  },
  {
   "cell_type": "code",
   "execution_count": null,
   "metadata": {
    "collapsed": true
   },
   "outputs": [],
   "source": []
  }
 ],
 "metadata": {
  "kernelspec": {
   "display_name": "Python 2",
   "language": "python",
   "name": "python2"
  },
  "language_info": {
   "codemirror_mode": {
    "name": "ipython",
    "version": 2
   },
   "file_extension": ".py",
   "mimetype": "text/x-python",
   "name": "python",
   "nbconvert_exporter": "python",
   "pygments_lexer": "ipython2",
   "version": "2.7.6"
  }
 },
 "nbformat": 4,
 "nbformat_minor": 0
}
