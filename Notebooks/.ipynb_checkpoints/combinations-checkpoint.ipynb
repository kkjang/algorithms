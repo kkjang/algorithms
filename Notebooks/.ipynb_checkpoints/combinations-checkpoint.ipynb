{
 "cells": [
  {
   "cell_type": "code",
   "execution_count": 45,
   "metadata": {
    "collapsed": true
   },
   "outputs": [],
   "source": [
    "#print all combinations of wxyz\n",
    "# wx and xw is double counting\n",
    "def combinations(str_input, start, string=None, size=None):\n",
    "    if size is None:\n",
    "        size = len(str_input)\n",
    "    if string is None:\n",
    "        string = []\n",
    "    if start < size:\n",
    "        for i in range(start, size):\n",
    "#             print i, start, size\n",
    "            new_string = string[::]\n",
    "            new_string.append(str_input[i])\n",
    "            print ''.join(new_string)\n",
    "            combinations(str_input, i+1, new_string, size)"
   ]
  },
  {
   "cell_type": "code",
   "execution_count": 49,
   "metadata": {
    "collapsed": false
   },
   "outputs": [
    {
     "name": "stdout",
     "output_type": "stream",
     "text": [
      "a\n",
      "ab\n",
      "abc\n",
      "abcd\n",
      "abd\n",
      "ac\n",
      "acd\n",
      "ad\n",
      "b\n",
      "bc\n",
      "bcd\n",
      "bd\n",
      "c\n",
      "cd\n",
      "d\n"
     ]
    }
   ],
   "source": [
    "combinations('abcd',0)"
   ]
  }
 ],
 "metadata": {
  "kernelspec": {
   "display_name": "Python 2",
   "language": "python",
   "name": "python2"
  },
  "language_info": {
   "codemirror_mode": {
    "name": "ipython",
    "version": 2
   },
   "file_extension": ".py",
   "mimetype": "text/x-python",
   "name": "python",
   "nbconvert_exporter": "python",
   "pygments_lexer": "ipython2",
   "version": "2.7.6"
  }
 },
 "nbformat": 4,
 "nbformat_minor": 0
}
