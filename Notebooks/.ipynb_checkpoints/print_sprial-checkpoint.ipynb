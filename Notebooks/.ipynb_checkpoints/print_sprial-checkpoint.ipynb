{
 "cells": [
  {
   "cell_type": "code",
   "execution_count": 9,
   "metadata": {
    "collapsed": true
   },
   "outputs": [],
   "source": [
    "#Print the numbers 1..n^2 in a spiral, with 1 in the center and going outward\n",
    "def print_spiral_outward(n):\n",
    "    return_array = [([0]*n) for x in range(n)]\n",
    "    origin = n / 2\n",
    "    if n % 2 == 0:\n",
    "        origin = (n / 2) - 1\n",
    "    x_index = origin\n",
    "    y_index = origin\n",
    "    cur_num = 1\n",
    "    for cur_level in range(1,n+1):\n",
    "        if cur_level == 1:\n",
    "            return_array[x_index][y_index] = cur_num\n",
    "            cur_num += 1\n",
    "            continue\n",
    "        if cur_level % 2 == 0:\n",
    "            y_index += 1\n",
    "            return_array[x_index][y_index] = cur_num\n",
    "            cur_num += 1\n",
    "            for i in range(cur_level-1):\n",
    "                x_index += 1\n",
    "                return_array[x_index][y_index] = cur_num\n",
    "                cur_num += 1\n",
    "            for i in range(cur_level-1):\n",
    "                y_index -= 1\n",
    "                return_array[x_index][y_index] = cur_num\n",
    "                cur_num += 1\n",
    "        else:\n",
    "            y_index -= 1\n",
    "            return_array[x_index][y_index] = cur_num\n",
    "            cur_num += 1\n",
    "            for i in range(cur_level-1):\n",
    "                x_index -= 1\n",
    "                return_array[x_index][y_index] = cur_num\n",
    "                cur_num += 1\n",
    "            for i in range(cur_level-1):\n",
    "                y_index += 1\n",
    "                return_array[x_index][y_index] = cur_num\n",
    "                cur_num += 1\n",
    "    return return_array\n"
   ]
  },
  {
   "cell_type": "code",
   "execution_count": 11,
   "metadata": {
    "collapsed": false
   },
   "outputs": [
    {
     "name": "stdout",
     "output_type": "stream",
     "text": [
      "[73, 74, 75, 76, 77, 78, 79, 80, 81, 82]\n",
      "[72, 43, 44, 45, 46, 47, 48, 49, 50, 83]\n",
      "[71, 42, 21, 22, 23, 24, 25, 26, 51, 84]\n",
      "[70, 41, 20, 7, 8, 9, 10, 27, 52, 85]\n",
      "[69, 40, 19, 6, 1, 2, 11, 28, 53, 86]\n",
      "[68, 39, 18, 5, 4, 3, 12, 29, 54, 87]\n",
      "[67, 38, 17, 16, 15, 14, 13, 30, 55, 88]\n",
      "[66, 37, 36, 35, 34, 33, 32, 31, 56, 89]\n",
      "[65, 64, 63, 62, 61, 60, 59, 58, 57, 90]\n",
      "[100, 99, 98, 97, 96, 95, 94, 93, 92, 91]\n"
     ]
    }
   ],
   "source": [
    "test = print_spiral(10)\n",
    "for i in test:\n",
    "    print i"
   ]
  }
 ],
 "metadata": {
  "kernelspec": {
   "display_name": "Python 2",
   "language": "python",
   "name": "python2"
  },
  "language_info": {
   "codemirror_mode": {
    "name": "ipython",
    "version": 2
   },
   "file_extension": ".py",
   "mimetype": "text/x-python",
   "name": "python",
   "nbconvert_exporter": "python",
   "pygments_lexer": "ipython2",
   "version": "2.7.6"
  }
 },
 "nbformat": 4,
 "nbformat_minor": 0
}
