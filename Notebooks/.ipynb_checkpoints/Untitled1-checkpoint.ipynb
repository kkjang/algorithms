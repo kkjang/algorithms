{
 "cells": [
  {
   "cell_type": "code",
   "execution_count": 2,
   "metadata": {
    "collapsed": false
   },
   "outputs": [
    {
     "name": "stdout",
     "output_type": "stream",
     "text": [
      "10\n",
      "9\n",
      "8\n",
      "7\n",
      "6\n",
      "5\n"
     ]
    }
   ],
   "source": [
    "class Node(object):\n",
    "    def __init__(self, val):\n",
    "        self.data = val\n",
    "        self.next = None\n",
    "\n",
    "    def __str__(self):\n",
    "        return str(self.data)\n",
    "\n",
    "    def get_next(self):\n",
    "        return self.next\n",
    "\n",
    "    def set_next(self, node):\n",
    "        self.next = node\n",
    "\n",
    "\n",
    "class LinkList(object):\n",
    "    def __init__(self):\n",
    "        self.head = None\n",
    "    \n",
    "    def set_head(self, node):\n",
    "        self.head = node\n",
    "    \n",
    "    def append(self, val):\n",
    "        tmp = Node(val)\n",
    "        tmp.set_next(self.head)\n",
    "        self.head = tmp\n",
    "        \n",
    "    def get_head(self):\n",
    "        return self.head\n",
    "    \n",
    "    def print_list(self):\n",
    "        node = self.head\n",
    "        while node:\n",
    "            print node.data\n",
    "            node = node.get_next()\n",
    "\n",
    "\n",
    "def reverse_link_list(arr):\n",
    "    previous = arr.get_head()\n",
    "    current = previous.get_next()\n",
    "    previous.set_next(None)\n",
    "    while current:\n",
    "    \ttmp = current.get_next()\n",
    "    \tcurrent.set_next(previous)\n",
    "    \tprevious = current\n",
    "    \tcurrent = tmp\n",
    "    arr.set_head(current)\n",
    "        \n",
    "\n",
    "bar = LinkList()\n",
    "bar.append(5)\n",
    "bar.append(6)\n",
    "bar.append(7)\n",
    "bar.append(8)\n",
    "bar.append(9)\n",
    "bar.append(10)\n",
    "bar.print_list()\n",
    "reverse_link_list(bar)\n",
    "bar.print_list()"
   ]
  }
 ],
 "metadata": {
  "kernelspec": {
   "display_name": "Python 2",
   "language": "python",
   "name": "python2"
  },
  "language_info": {
   "codemirror_mode": {
    "name": "ipython",
    "version": 2
   },
   "file_extension": ".py",
   "mimetype": "text/x-python",
   "name": "python",
   "nbconvert_exporter": "python",
   "pygments_lexer": "ipython2",
   "version": "2.7.6"
  }
 },
 "nbformat": 4,
 "nbformat_minor": 0
}
