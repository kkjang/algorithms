{
 "cells": [
  {
   "cell_type": "code",
   "execution_count": 3,
   "metadata": {
    "collapsed": true
   },
   "outputs": [],
   "source": [
    "# out of string s, give all permutations of length n\n",
    "def length_permutations(s, n, cur_str='', cur_list=[]):\n",
    "    if n == len(cur_str):\n",
    "        return cur_list + [cur_str]\n",
    "    for i in s:\n",
    "        cur_list = length_permutations(s, n, cur_str + i, cur_list)\n",
    "    return cur_list\n",
    "\n",
    "# give all permutations of string\n",
    "def permutations(char_list, n, perm_list, index=0):\n",
    "    print index, n\n",
    "    if index == n-1:\n",
    "        full_string = ''.join(char_list)\n",
    "        if full_string not in perm_list:\n",
    "            perm_list.add(full_string)\n",
    "        return perm_list\n",
    "    else:\n",
    "        for i in range(index, n):\n",
    "            char_list[i], char_list[index] = char_list[index], char_list[i]\n",
    "            perm_list = permutations(char_list, n, perm_list, index+1)\n",
    "            char_list[index], char_list[i] = char_list[i], char_list[index]\n",
    "        return perm_list\n",
    "            \n",
    "    "
   ]
  },
  {
   "cell_type": "code",
   "execution_count": 4,
   "metadata": {
    "collapsed": false
   },
   "outputs": [
    {
     "data": {
      "text/plain": [
       "['aa', 'ab', 'ac', 'ba', 'bb', 'bc', 'ca', 'cb', 'cc']"
      ]
     },
     "execution_count": 4,
     "metadata": {},
     "output_type": "execute_result"
    }
   ],
   "source": [
    "test = list('abcdefg')\n",
    "# permutations(test, len(test), set())\n",
    "length_permutations('abc', 2)"
   ]
  }
 ],
 "metadata": {
  "kernelspec": {
   "display_name": "Python 2",
   "language": "python",
   "name": "python2"
  },
  "language_info": {
   "codemirror_mode": {
    "name": "ipython",
    "version": 2
   },
   "file_extension": ".py",
   "mimetype": "text/x-python",
   "name": "python",
   "nbconvert_exporter": "python",
   "pygments_lexer": "ipython2",
   "version": "2.7.6"
  }
 },
 "nbformat": 4,
 "nbformat_minor": 0
}
