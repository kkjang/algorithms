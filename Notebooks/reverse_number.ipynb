{
 "cells": [
  {
   "cell_type": "code",
   "execution_count": 22,
   "metadata": {
    "collapsed": false
   },
   "outputs": [],
   "source": [
    "from exceptions import ValueError\n",
    "def reverse_number(number):\n",
    "    if not isinstance(number, int):\n",
    "        raise ValueError('Input is not an integer')\n",
    "    negative = False\n",
    "    if number < 0:\n",
    "        negative = True\n",
    "        number *= -1\n",
    "    reverse = 0\n",
    "    while number > 0:\n",
    "        reverse *= 10\n",
    "        remainder = number % 10\n",
    "        reverse += remainder\n",
    "        number /= 10\n",
    "    return reverse if negative is False else reverse * -1\n",
    "\n",
    "def reverse_recursive(number, reverse=0):\n",
    "    if number == 0:\n",
    "        print reverse\n",
    "    else:\n",
    "        reverse_recursive(number/10, (reverse*10) + (number % 10))\n",
    "    \n",
    "        "
   ]
  },
  {
   "cell_type": "code",
   "execution_count": 23,
   "metadata": {
    "collapsed": false
   },
   "outputs": [
    {
     "name": "stdout",
     "output_type": "stream",
     "text": [
      "321\n"
     ]
    }
   ],
   "source": [
    "reverse_recursive(123)"
   ]
  }
 ],
 "metadata": {
  "kernelspec": {
   "display_name": "Python 2",
   "language": "python",
   "name": "python2"
  },
  "language_info": {
   "codemirror_mode": {
    "name": "ipython",
    "version": 2
   },
   "file_extension": ".py",
   "mimetype": "text/x-python",
   "name": "python",
   "nbconvert_exporter": "python",
   "pygments_lexer": "ipython2",
   "version": "2.7.6"
  }
 },
 "nbformat": 4,
 "nbformat_minor": 0
}
