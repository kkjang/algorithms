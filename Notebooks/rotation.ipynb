{
 "cells": [
  {
   "cell_type": "code",
   "execution_count": 73,
   "metadata": {
    "collapsed": false
   },
   "outputs": [],
   "source": [
    "def quicksort(array, start=0, end=None):\n",
    "    if end is None:\n",
    "        end = len(array)\n",
    "    if end - start > 1:\n",
    "        pivot = array[start]\n",
    "        swap = start\n",
    "        for index in range(start+1, end):\n",
    "            if array[index] < pivot:\n",
    "                swap += 1\n",
    "                array[swap], array[index] = array[index], array[swap]\n",
    "        array[swap], array[start] = array[start], array[swap]\n",
    "        quicksort(array, start, swap)\n",
    "        quicksort(array, swap+1, end)\n",
    "    return array\n",
    "\n",
    "def mergesort(array):\n",
    "    if len(array) > 1:\n",
    "        middle = len(array) / 2\n",
    "        left = array[:middle]\n",
    "        right = array[middle:]\n",
    "        \n",
    "        mergesort(left)\n",
    "        mergesort(right)\n",
    "        \n",
    "        i = 0\n",
    "        j = 0\n",
    "        \n",
    "        for index in range(len(array)):\n",
    "            if i < len(left) and j < len(right):\n",
    "                if left[i] < right[j]:\n",
    "                    array[index] = left[i]\n",
    "                    i += 1\n",
    "                else:\n",
    "                    array[index] = right[j]\n",
    "                    j += 1\n",
    "            else:\n",
    "                if i < len(left):\n",
    "                    array[index] = left[i]\n",
    "                    i += 1\n",
    "                if j < len(right):\n",
    "                    array[index] = right[j]\n",
    "                    j += 1\n",
    "    return array\n",
    "        \n",
    "def rotate(array, k):\n",
    "    k = k % len(array) \n",
    "    reverse(array,0,len(array)-1)\n",
    "    print array\n",
    "    reverse(array,0,k-1)\n",
    "    print array\n",
    "    reverse(array,k,len(array)-1)\n",
    "    print array\n",
    "    \n",
    "def reverse(array,start=0,end=None):\n",
    "    if end is None:\n",
    "        end = len(array) - 1\n",
    "    while start < end:\n",
    "        array[start], array[end] = array[end], array[start]\n",
    "        start += 1\n",
    "        end -= 1\n",
    "#     size = end - start\n",
    "#     for index in range(size/2):\n",
    "#         array[start+index], array[end-index-1] = array[end-index-1], array[start+index]"
   ]
  },
  {
   "cell_type": "code",
   "execution_count": 76,
   "metadata": {
    "collapsed": false
   },
   "outputs": [
    {
     "name": "stdout",
     "output_type": "stream",
     "text": [
      "[10, 9, 8, 7, 6, 5, 4, 3, 2, 1]\n",
      "[8, 9, 10, 7, 6, 5, 4, 3, 2, 1]\n",
      "[8, 9, 10, 1, 2, 3, 4, 5, 6, 7]\n"
     ]
    }
   ],
   "source": [
    "test = [1,2,3,4,5,6,7,8,9,10]\n",
    "# quicksort(test)\n",
    "rotate(test, 3)"
   ]
  }
 ],
 "metadata": {
  "kernelspec": {
   "display_name": "Python 2",
   "language": "python",
   "name": "python2"
  },
  "language_info": {
   "codemirror_mode": {
    "name": "ipython",
    "version": 2
   },
   "file_extension": ".py",
   "mimetype": "text/x-python",
   "name": "python",
   "nbconvert_exporter": "python",
   "pygments_lexer": "ipython2",
   "version": "2.7.6"
  }
 },
 "nbformat": 4,
 "nbformat_minor": 0
}
