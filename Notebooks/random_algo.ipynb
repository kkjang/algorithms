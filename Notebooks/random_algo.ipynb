{
 "cells": [
  {
   "cell_type": "code",
   "execution_count": 11,
   "metadata": {
    "collapsed": false
   },
   "outputs": [],
   "source": [
    "def permutations(input_list, index=0, n=None):\n",
    "    if n is None:\n",
    "        n = len(input_list)\n",
    "    if index == n-1:\n",
    "        print ''.join(input_list)\n",
    "    else:\n",
    "        for i in range(index, n):\n",
    "            input_list[index], input_list[i] = input_list[i], input_list[index]\n",
    "            permutations(input_list, index+1, n)\n",
    "            input_list[i], input_list[index] = input_list[index], input_list[i]\n",
    "def check_rotation(num):\n",
    "    string = str(num)\n",
    "    size = len(string)\n",
    "    for index in range((size/2)+1):\n",
    "        print string[index]\n",
    "        if string[index] == '1' or string[index] == '0':\n",
    "            if string[size-index-1] != string[index]:\n",
    "                return False\n",
    "        elif string[index] == '6':\n",
    "            if string[size-index-1] != '9':\n",
    "                return False\n",
    "        elif string[index] == '9':\n",
    "            if string[size-index-1] != '6':\n",
    "                return False\n",
    "        else:\n",
    "            return False\n",
    "    return True\n",
    "\n",
    "#Sort an array of 0s, 1s and 2s \n",
    "#Given an array A[] consisting 0s, 1s and 2s, write a function that sorts A[]. \n",
    "def sort_dumb_array(array):\n",
    "    swap = 0\n",
    "    for index, val in enumerate(array):\n",
    "        if val == 0:\n",
    "            array[index], array[swap] = array[swap], array[index]\n",
    "            swap += 1\n",
    "    for index in range(swap, len(array)):\n",
    "        print array\n",
    "        if array[index] == 1:\n",
    "            array[index], array[swap] = array[swap], array[index]\n",
    "            swap+= 1\n",
    "    print array\n",
    "    \n",
    "from collections import defaultdict\n",
    "def check_permutation(string1, string2):\n",
    "    char_dict = defaultdict(int)\n",
    "    for char in string1:\n",
    "        char_dict[char] += 1\n",
    "    for char in string2:\n",
    "        if char_dict[char]:\n",
    "            char_dict[char] -= 1\n",
    "        else:\n",
    "            return False\n",
    "    return True\n",
    "\n",
    "def reverse_string(string):\n",
    "    size = len(string)\n",
    "    new = []\n",
    "    for index in range(size):\n",
    "        new.append(string[size-index-1])\n",
    "    return ''.join(new)\n",
    "\n",
    "def binary_search(array, num):\n",
    "    low = 0\n",
    "    high = len(array) - 1\n",
    "    while low <= high:\n",
    "        mid = low + ((high - low) / 2)\n",
    "        print array[mid]\n",
    "        if num > array[mid]:\n",
    "            low = mid + 1\n",
    "        elif num < array[mid]:\n",
    "            high = mid - 1\n",
    "        else:\n",
    "            return True\n",
    "    return False\n",
    "    \n",
    "    "
   ]
  },
  {
   "cell_type": "code",
   "execution_count": 15,
   "metadata": {
    "collapsed": false
   },
   "outputs": [
    {
     "name": "stdout",
     "output_type": "stream",
     "text": [
      "7\n",
      "26\n",
      "9\n",
      "24\n"
     ]
    },
    {
     "data": {
      "text/plain": [
       "False"
      ]
     },
     "execution_count": 15,
     "metadata": {},
     "output_type": "execute_result"
    }
   ],
   "source": [
    "binary_search([1,2,3,4,5,6,7,8,9,24,26,36,78,90], 10)"
   ]
  }
 ],
 "metadata": {
  "kernelspec": {
   "display_name": "Python 2",
   "language": "python",
   "name": "python2"
  },
  "language_info": {
   "codemirror_mode": {
    "name": "ipython",
    "version": 2
   },
   "file_extension": ".py",
   "mimetype": "text/x-python",
   "name": "python",
   "nbconvert_exporter": "python",
   "pygments_lexer": "ipython2",
   "version": "2.7.6"
  }
 },
 "nbformat": 4,
 "nbformat_minor": 0
}
