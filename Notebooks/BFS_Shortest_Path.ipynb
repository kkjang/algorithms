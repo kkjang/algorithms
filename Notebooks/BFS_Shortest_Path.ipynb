{
 "cells": [
  {
   "cell_type": "code",
   "execution_count": 33,
   "metadata": {
    "collapsed": true
   },
   "outputs": [],
   "source": [
    "def BFS_graph(arr, root, val):\n",
    "    visited = {root:None}\n",
    "    current = [root]\n",
    "    while current:\n",
    "        next = []\n",
    "        for i in current:\n",
    "            for j in arr[i]:\n",
    "                if j not in visited:\n",
    "                    next.append(j)\n",
    "                    visited[j] = i\n",
    "                if j == val:\n",
    "                    shortest_path = []\n",
    "                    parent = visited.get(j)\n",
    "                    while parent is not None:\n",
    "                        shortest_path.append(parent)\n",
    "                        parent = visited.get(parent)\n",
    "                    return 'found', shortest_path\n",
    "        current = next\n",
    "    return 'not found'\n"
   ]
  },
  {
   "cell_type": "code",
   "execution_count": 32,
   "metadata": {
    "collapsed": false
   },
   "outputs": [
    {
     "data": {
      "text/plain": [
       "('found', ['b', 'a'])"
      ]
     },
     "execution_count": 32,
     "metadata": {},
     "output_type": "execute_result"
    }
   ],
   "source": [
    "foo = dict()\n",
    "foo['a'] = ['b', 'c']\n",
    "foo['b'] = ['a','d','e']\n",
    "foo['c'] = ['a', 'f']\n",
    "foo['d'] = ['b']\n",
    "foo['e'] = ['b','f']\n",
    "foo['f'] = ['c', 'e']\n",
    "BFS_graph(foo, 'a', 'e')"
   ]
  },
  {
   "cell_type": "code",
   "execution_count": null,
   "metadata": {
    "collapsed": true
   },
   "outputs": [],
   "source": []
  }
 ],
 "metadata": {
  "kernelspec": {
   "display_name": "Python 2",
   "language": "python",
   "name": "python2"
  },
  "language_info": {
   "codemirror_mode": {
    "name": "ipython",
    "version": 2
   },
   "file_extension": ".py",
   "mimetype": "text/x-python",
   "name": "python",
   "nbconvert_exporter": "python",
   "pygments_lexer": "ipython2",
   "version": "2.7.6"
  }
 },
 "nbformat": 4,
 "nbformat_minor": 0
}
