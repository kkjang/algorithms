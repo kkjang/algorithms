{
 "cells": [
  {
   "cell_type": "code",
   "execution_count": 27,
   "metadata": {
    "collapsed": true
   },
   "outputs": [],
   "source": [
    "def binary_search(arr, val):\n",
    "    lo = 0\n",
    "    hi = len(arr) - 1\n",
    "    while lo <= hi: \n",
    "        mid = lo + (hi-lo) / 2\n",
    "        if val == arr[mid]:\n",
    "            return 'found at index %i' % mid\n",
    "        if val < arr[mid]:\n",
    "            hi = mid - 1\n",
    "        else:\n",
    "            lo = mid + 1\n",
    "    return 'not found'\n",
    "\n",
    "# Example: A sorted array has been rotated so that the elements might appear in the order 3\n",
    "# 456712. How would you find the minimum element? You may assume that the array has\n",
    "# all unique elements.\n",
    "\n",
    "def rotated_binary_search(arr):\n",
    "    lo = 0\n",
    "    hi = len(arr) - 1\n",
    "    count = 0\n",
    "    while lo <= hi:\n",
    "        mid = lo + (hi-lo)/2\n",
    "        count += 1\n",
    "        if lo == hi:\n",
    "            print count\n",
    "            return 'found at index %i' % mid\n",
    "        if arr[mid] > arr[-1]:\n",
    "            lo = mid + 1\n",
    "        else:\n",
    "            hi = mid"
   ]
  },
  {
   "cell_type": "code",
   "execution_count": 28,
   "metadata": {
    "collapsed": false
   },
   "outputs": [
    {
     "name": "stdout",
     "output_type": "stream",
     "text": [
      "6\n",
      "found at index 0\n"
     ]
    }
   ],
   "source": [
    "foo = [6,7,1,2,3,4,5,6,7,8,9,10,11,12,13,14,15,16,17,18,19]\n",
    "print rotated_binary_search(foo)\n"
   ]
  }
 ],
 "metadata": {
  "kernelspec": {
   "display_name": "Python 2",
   "language": "python",
   "name": "python2"
  },
  "language_info": {
   "codemirror_mode": {
    "name": "ipython",
    "version": 2
   },
   "file_extension": ".py",
   "mimetype": "text/x-python",
   "name": "python",
   "nbconvert_exporter": "python",
   "pygments_lexer": "ipython2",
   "version": "2.7.6"
  }
 },
 "nbformat": 4,
 "nbformat_minor": 0
}
