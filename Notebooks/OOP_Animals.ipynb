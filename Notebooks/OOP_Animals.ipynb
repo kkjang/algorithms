{
 "cells": [
  {
   "cell_type": "code",
   "execution_count": 8,
   "metadata": {
    "collapsed": false
   },
   "outputs": [],
   "source": [
    "class Animal(object):\n",
    "    def __init__(self):\n",
    "        self.my_message = \"I am an animal\"\n",
    "        \n",
    "    def speak(self):\n",
    "        print self.my_message\n",
    "    \n",
    "class Dog(Animal):\n",
    "    def __init__(self):\n",
    "        super(Dog, self).__init__()\n",
    "        \n",
    "    def bark(self):\n",
    "        print \"WOOF\"\n",
    "        \n",
    "            "
   ]
  },
  {
   "cell_type": "code",
   "execution_count": 10,
   "metadata": {
    "collapsed": false
   },
   "outputs": [
    {
     "name": "stdout",
     "output_type": "stream",
     "text": [
      "I am an animal\n",
      "WOOF\n"
     ]
    }
   ],
   "source": [
    "dog = Dog()\n",
    "dog.speak()\n",
    "dog.bark()\n"
   ]
  }
 ],
 "metadata": {
  "kernelspec": {
   "display_name": "Python 2",
   "language": "python",
   "name": "python2"
  },
  "language_info": {
   "codemirror_mode": {
    "name": "ipython",
    "version": 2
   },
   "file_extension": ".py",
   "mimetype": "text/x-python",
   "name": "python",
   "nbconvert_exporter": "python",
   "pygments_lexer": "ipython2",
   "version": "2.7.6"
  }
 },
 "nbformat": 4,
 "nbformat_minor": 0
}
