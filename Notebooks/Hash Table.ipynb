{
 "cells": [
  {
   "cell_type": "code",
   "execution_count": 12,
   "metadata": {
    "collapsed": true
   },
   "outputs": [],
   "source": [
    "class HashTable(object):\n",
    "    def __init__(self, size):\n",
    "        self.data = [[] for x in range(size)]\n",
    "        self.size = size\n",
    "    def hash_function(self, val):\n",
    "        return val % self.size\n",
    "    def insert(self, key, val):\n",
    "        indx = self.hash_function(key)\n",
    "        self.data[indx].append((key, val))\n",
    "    def get(self, key):\n",
    "        indx = self.hash_function(key)\n",
    "        for pair in self.data[indx]:\n",
    "            if pair[0] == key:\n",
    "                return pair\n",
    "        return 'not found'\n",
    "        "
   ]
  },
  {
   "cell_type": "code",
   "execution_count": 13,
   "metadata": {
    "collapsed": false
   },
   "outputs": [
    {
     "data": {
      "text/plain": [
       "(11, 'red')"
      ]
     },
     "execution_count": 13,
     "metadata": {},
     "output_type": "execute_result"
    }
   ],
   "source": [
    "test = HashTable(10)\n",
    "test.insert(1, 'blue')\n",
    "test.insert(11, 'red')\n",
    "test.get(11)\n"
   ]
  }
 ],
 "metadata": {
  "kernelspec": {
   "display_name": "Python 2",
   "language": "python",
   "name": "python2"
  },
  "language_info": {
   "codemirror_mode": {
    "name": "ipython",
    "version": 2
   },
   "file_extension": ".py",
   "mimetype": "text/x-python",
   "name": "python",
   "nbconvert_exporter": "python",
   "pygments_lexer": "ipython2",
   "version": "2.7.6"
  }
 },
 "nbformat": 4,
 "nbformat_minor": 0
}
