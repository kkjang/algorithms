{
 "cells": [
  {
   "cell_type": "code",
   "execution_count": 4,
   "metadata": {
    "collapsed": false
   },
   "outputs": [],
   "source": [
    "def coin_change(coins, val):\n",
    "    min_list = [0]\n",
    "    for i in range(1, val + 1):\n",
    "        local_min = float(\"inf\")\n",
    "        for j in coins:\n",
    "            if j <= i:\n",
    "                lookup = i - j\n",
    "                new_min = min_list[lookup] + 1\n",
    "                if new_min < local_min:\n",
    "                    local_min = new_min\n",
    "        min_list.append(local_min)\n",
    "    return min_list"
   ]
  },
  {
   "cell_type": "code",
   "execution_count": 7,
   "metadata": {
    "collapsed": false
   },
   "outputs": [
    {
     "name": "stdout",
     "output_type": "stream",
     "text": [
      "[0, 1, 2, 3, 4, 1, 2, 3, 4, 5, 1, 2, 3, 4, 5, 2, 3, 4, 5, 6, 2, 3, 4, 5, 6, 1]\n"
     ]
    }
   ],
   "source": [
    "coin_list = [1,5,10,25]\n",
    "coin_value = 25\n",
    "print coin_change(coin_list, coin_value)"
   ]
  }
 ],
 "metadata": {
  "kernelspec": {
   "display_name": "Python 2",
   "language": "python",
   "name": "python2"
  },
  "language_info": {
   "codemirror_mode": {
    "name": "ipython",
    "version": 2
   },
   "file_extension": ".py",
   "mimetype": "text/x-python",
   "name": "python",
   "nbconvert_exporter": "python",
   "pygments_lexer": "ipython2",
   "version": "2.7.6"
  }
 },
 "nbformat": 4,
 "nbformat_minor": 0
}
