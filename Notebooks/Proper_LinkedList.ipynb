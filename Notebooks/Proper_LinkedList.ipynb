{
 "cells": [
  {
   "cell_type": "code",
   "execution_count": 12,
   "metadata": {
    "collapsed": true
   },
   "outputs": [],
   "source": [
    "class LinkedList:\n",
    "    def __init__(self):\n",
    "        self.head = None\n",
    "    def __str__(self):\n",
    "        data_list = []\n",
    "        current = self.head\n",
    "        while current:\n",
    "            data_list.append(current.val)\n",
    "            current = current.next\n",
    "        if not data_list:\n",
    "            raise Exception(\"test\")\n",
    "        return ' '.join(str(x) for x in data_list)\n",
    "    @property\n",
    "    def length(self):\n",
    "        counter = 0\n",
    "        current = self.head\n",
    "        while current:\n",
    "            counter += 1\n",
    "            current = current.next\n",
    "        return counter\n",
    "    def add(self, val):\n",
    "        if self.head is None:\n",
    "            self.head = Node(val)\n",
    "        else:\n",
    "            new_node = Node(val)\n",
    "            new_node.next = self.head\n",
    "            self.head = new_node\n",
    "    def reverse(self):\n",
    "        previous = None\n",
    "        current = self.head\n",
    "        while current:\n",
    "            next = current.next\n",
    "            current.next = previous\n",
    "            previous, current = current, next\n",
    "        self.head = previous\n",
    "        \n",
    "class LinkedListException(Exception):\n",
    "    pass\n",
    "\n",
    "class Node:\n",
    "    def __init__(self, val):\n",
    "        self.val = val\n",
    "        self.next = None"
   ]
  },
  {
   "cell_type": "code",
   "execution_count": 18,
   "metadata": {
    "collapsed": false
   },
   "outputs": [
    {
     "data": {
      "text/plain": [
       "6"
      ]
     },
     "execution_count": 18,
     "metadata": {},
     "output_type": "execute_result"
    }
   ],
   "source": [
    "test = LinkedList()\n",
    "test.add(5)\n",
    "test.add(6)\n",
    "test.length "
   ]
  }
 ],
 "metadata": {
  "kernelspec": {
   "display_name": "Python 2",
   "language": "python",
   "name": "python2"
  },
  "language_info": {
   "codemirror_mode": {
    "name": "ipython",
    "version": 2
   },
   "file_extension": ".py",
   "mimetype": "text/x-python",
   "name": "python",
   "nbconvert_exporter": "python",
   "pygments_lexer": "ipython2",
   "version": "2.7.6"
  }
 },
 "nbformat": 4,
 "nbformat_minor": 0
}
