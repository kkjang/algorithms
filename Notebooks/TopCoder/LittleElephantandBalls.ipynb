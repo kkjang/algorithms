{
 "cells": [
  {
   "cell_type": "code",
   "execution_count": 18,
   "metadata": {
    "collapsed": true
   },
   "outputs": [],
   "source": [
    "def getNumber(S):\n",
    "    arr = list(S)\n",
    "    max_length = 0\n",
    "    begin = 0\n",
    "    end = 0\n",
    "    while end < len(arr):\n",
    "        if arr[begin] == arr[end]:\n",
    "            length = (end - begin) + 1\n",
    "            if length > max_length:\n",
    "                max_length = length\n",
    "            end += 1\n",
    "        else:\n",
    "            begin = end\n",
    "    return len(arr) - max_length"
   ]
  },
  {
   "cell_type": "code",
   "execution_count": 19,
   "metadata": {
    "collapsed": false
   },
   "outputs": [
    {
     "name": "stdout",
     "output_type": "stream",
     "text": [
      "46\n"
     ]
    }
   ],
   "source": [
    "foo = \"RGBRBRGRGRBBBGRBRBRGBGBBBGRGBBBBRGBGRRGGRRRGRBBBBR\"\n",
    "print getNumber(foo)"
   ]
  }
 ],
 "metadata": {
  "kernelspec": {
   "display_name": "Python 2",
   "language": "python",
   "name": "python2"
  },
  "language_info": {
   "codemirror_mode": {
    "name": "ipython",
    "version": 2
   },
   "file_extension": ".py",
   "mimetype": "text/x-python",
   "name": "python",
   "nbconvert_exporter": "python",
   "pygments_lexer": "ipython2",
   "version": "2.7.6"
  }
 },
 "nbformat": 4,
 "nbformat_minor": 0
}
