{
 "cells": [
  {
   "cell_type": "code",
   "execution_count": 55,
   "metadata": {
    "collapsed": false
   },
   "outputs": [],
   "source": [
    "def find_LIS(nums):\n",
    "    overall_max = 0\n",
    "    L = {i:[] for i in range(len(nums))}\n",
    "    for i, v in enumerate(nums):\n",
    "        for j in range(i):\n",
    "            if nums[j] < nums[i] and len(L[i]) < len(L[j]):\n",
    "                L[i] = L[j][:]\n",
    "        L[i].append(nums[i])\n",
    "    return L\n",
    "#     for i, v in enumerate(nums):\n",
    "#         candidates = [L[j] for j in range(i) if nums[j] < v]\n",
    "#         max_sequence = []\n",
    "#         if candidates:\n",
    "#             max_sequence = list(max(candidates, key=len))\n",
    "#         max_sequence.append(nums[i])\n",
    "#         L[i] = max_sequence\n",
    "#     return L"
   ]
  },
  {
   "cell_type": "code",
   "execution_count": 56,
   "metadata": {
    "collapsed": false
   },
   "outputs": [
    {
     "data": {
      "text/plain": [
       "{0: [10],\n",
       " 1: [9],\n",
       " 2: [2],\n",
       " 3: [2, 5],\n",
       " 4: [2, 3],\n",
       " 5: [2, 5, 7],\n",
       " 6: [2, 5, 7, 101],\n",
       " 7: [2, 5, 7, 18]}"
      ]
     },
     "execution_count": 56,
     "metadata": {},
     "output_type": "execute_result"
    }
   ],
   "source": [
    "test = [10, 9, 2, 5, 3, 7, 101, 18]\n",
    "find_LIS(test)"
   ]
  }
 ],
 "metadata": {
  "kernelspec": {
   "display_name": "Python 2",
   "language": "python",
   "name": "python2"
  },
  "language_info": {
   "codemirror_mode": {
    "name": "ipython",
    "version": 2
   },
   "file_extension": ".py",
   "mimetype": "text/x-python",
   "name": "python",
   "nbconvert_exporter": "python",
   "pygments_lexer": "ipython2",
   "version": "2.7.6"
  }
 },
 "nbformat": 4,
 "nbformat_minor": 0
}
