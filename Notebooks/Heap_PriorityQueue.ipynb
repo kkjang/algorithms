{
 "cells": [
  {
   "cell_type": "code",
   "execution_count": 41,
   "metadata": {
    "collapsed": false
   },
   "outputs": [],
   "source": [
    "class MinHeap(object):\n",
    "    def __init__(self):\n",
    "        self.data = [None]\n",
    "        self.size = 0\n",
    "    def sift_up(self, n):\n",
    "        while n != 1:\n",
    "            parent = n / 2\n",
    "            if self.data[n] < self.data[parent]:\n",
    "                self.data[n], self.data[parent] = self.data[parent], self.data[n]\n",
    "                n = parent\n",
    "            else:\n",
    "                break\n",
    "    def insert(self, val):\n",
    "        self.data.append(val)\n",
    "        self.size += 1\n",
    "        self.sift_up(self.size)\n",
    "    def sift_down(self, n):\n",
    "        while True:\n",
    "            min_child = None\n",
    "            left = 2 * n\n",
    "            right = 2 * n + 1\n",
    "            if left <= self.size:\n",
    "                min_child = left\n",
    "                if right <= self.size:\n",
    "                    if self.data[right] < self.data[left]:\n",
    "                        min_child = right\n",
    "            if min_child is None:\n",
    "                break\n",
    "            else:\n",
    "                if self.data[n] > self.data[min_child]:\n",
    "                    self.data[n], self.data[min_child] = self.data[min_child], self.data[n]\n",
    "                    n = min_child\n",
    "                else:\n",
    "                    break\n",
    "    def extract_min(self):\n",
    "        if self.size > 0:\n",
    "            self.data[1], self.data[self.size] = self.data[self.size], self.data[1]\n",
    "            min_val = self.data.pop()\n",
    "            self.size -= 1\n",
    "            self.sift_down(1)\n",
    "            return min_val\n",
    "        \n",
    "def heap_sort(arr):\n",
    "    min_heap = MinHeap()\n",
    "    return_arr = []\n",
    "    for indx in arr:\n",
    "        min_heap.insert(indx)\n",
    "    for indx in arr:\n",
    "        return_arr.append(min_heap.extract_min())\n",
    "    return return_arr\n",
    "\n",
    "class PriorityQueue(MinHeap):\n",
    "    def __init__(self):\n",
    "        super(PriorityQueue, self).__init__()\n",
    "    def __str__(self):\n",
    "        return \", \".join(str(x) for x in self.data[1:])\n",
    "    def enqueue(self, val):\n",
    "        self.insert(val)\n",
    "    def dequeue(self):\n",
    "        self.extract_min()        \n",
    "    "
   ]
  },
  {
   "cell_type": "code",
   "execution_count": 44,
   "metadata": {
    "collapsed": false
   },
   "outputs": [
    {
     "name": "stdout",
     "output_type": "stream",
     "text": [
      "5, 6\n"
     ]
    }
   ],
   "source": [
    "test = [5,20,1,99,100,35,64,75,23,74]\n",
    "foo = PriorityQueue()\n",
    "foo.enqueue(5)\n",
    "foo.enqueue(6)\n",
    "foo.enqueue(3)\n",
    "foo.dequeue()\n",
    "print foo"
   ]
  }
 ],
 "metadata": {
  "kernelspec": {
   "display_name": "Python 2",
   "language": "python",
   "name": "python2"
  },
  "language_info": {
   "codemirror_mode": {
    "name": "ipython",
    "version": 2
   },
   "file_extension": ".py",
   "mimetype": "text/x-python",
   "name": "python",
   "nbconvert_exporter": "python",
   "pygments_lexer": "ipython2",
   "version": "2.7.6"
  }
 },
 "nbformat": 4,
 "nbformat_minor": 0
}
