{
 "cells": [
  {
   "cell_type": "code",
   "execution_count": 20,
   "metadata": {
    "collapsed": true
   },
   "outputs": [],
   "source": [
    "\"\"\"Given a directory string \"c/a/../b/./d\" write a method that outputs the final directory. \n",
    "(In this example, \"c/b/d\"). A \".\" input stays in the current directory, \n",
    "a \"..\" input goes back one.  \"\"\"\n",
    "\n",
    "def directory(path):\n",
    "    path = path.split('/')\n",
    "    print path\n",
    "    path_stack = []\n",
    "    for val in path:\n",
    "        if val == '..' and path_stack:\n",
    "            path_stack.pop()\n",
    "        else:\n",
    "            if val != '.':\n",
    "                path_stack.append(val)\n",
    "    print '/'.join(path_stack)\n",
    "            \n",
    "# excel row number to label\n",
    "def row_to_label(row):\n",
    "    alphabet = list('abcdefghijklmnopqrstuvwxyz')\n",
    "    label = []\n",
    "    while row > 0:\n",
    "        remainder = row % 26\n",
    "        label.append(alphabet[remainder-1])\n",
    "        if remainder == 0:\n",
    "            row -= 1\n",
    "        row = row / 26\n",
    "    \n",
    "    return ''.join(label[::-1])\n",
    "\n",
    "def label_to_row(label):\n",
    "    alphabet = list('abcdefghijklmnopqrstuvwxyz')\n",
    "    row = 0\n",
    "    for index, val in enumerate(label):\n",
    "        power = len(label) - index - 1\n",
    "        adder = pow(26, power) * (alphabet.index(val)+1)\n",
    "        row += adder\n",
    "    return row\n",
    "    \n",
    "        "
   ]
  },
  {
   "cell_type": "code",
   "execution_count": 27,
   "metadata": {
    "collapsed": false
   },
   "outputs": [
    {
     "name": "stdout",
     "output_type": "stream",
     "text": [
      "az\n",
      "52\n"
     ]
    }
   ],
   "source": [
    "print row_to_label(52)\n",
    "print label_to_row('az')"
   ]
  }
 ],
 "metadata": {
  "kernelspec": {
   "display_name": "Python 2",
   "language": "python",
   "name": "python2"
  },
  "language_info": {
   "codemirror_mode": {
    "name": "ipython",
    "version": 2
   },
   "file_extension": ".py",
   "mimetype": "text/x-python",
   "name": "python",
   "nbconvert_exporter": "python",
   "pygments_lexer": "ipython2",
   "version": "2.7.6"
  }
 },
 "nbformat": 4,
 "nbformat_minor": 0
}
