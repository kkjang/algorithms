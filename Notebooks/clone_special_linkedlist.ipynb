{
 "cells": [
  {
   "cell_type": "code",
   "execution_count": 8,
   "metadata": {
    "collapsed": true
   },
   "outputs": [],
   "source": [
    "class Node:\n",
    "    def __init__(self, val):\n",
    "        self.val = val\n",
    "        self.next = None\n",
    "        self.random = None\n",
    "    def __str__(self):\n",
    "        return str(self.val)\n",
    "\n",
    "def clone(head):\n",
    "    node_dict = dict()\n",
    "    orig_cur = head\n",
    "    clone_head = None\n",
    "    clone_cur = None\n",
    "    while orig_cur:\n",
    "        new_node = node_dict.get(orig_cur)\n",
    "        if new_node is None:\n",
    "            new_node = Node(orig_cur.val)\n",
    "            node_dict[orig_cur] = new_node\n",
    "        if clone_head is None:\n",
    "            clone_head = new_node\n",
    "            clone_cur = new_node\n",
    "        \n",
    "        if orig_cur.next is None:\n",
    "            next_node = None\n",
    "        else:\n",
    "            next_node = node_dict.get(orig_cur.next)\n",
    "            if next_node is None:\n",
    "                next_node = Node(orig_cur.next.val)\n",
    "                node_dict[orig_cur.next] = next_node\n",
    "        \n",
    "        if orig_cur.random is None:\n",
    "            random_node = None\n",
    "        else:\n",
    "            random_node = node_dict.get(orig_cur.random)\n",
    "            if random_node is None:\n",
    "                random_node = Node(orig_cur.random.val)\n",
    "                node_dict[orig_cur.random] = random_node\n",
    "        \n",
    "        clone_cur.next = next_node\n",
    "        clone_cur.random = random_node\n",
    "        orig_cur = orig_cur.next\n",
    "        clone_cur = clone_cur.next\n",
    "    return clone_head\n",
    "        \n",
    "def print_list(head):\n",
    "    current = head\n",
    "    while current:\n",
    "        print current, current.random\n",
    "        current = current.next\n",
    "    "
   ]
  },
  {
   "cell_type": "code",
   "execution_count": 18,
   "metadata": {
    "collapsed": false
   },
   "outputs": [
    {
     "name": "stdout",
     "output_type": "stream",
     "text": [
      "5 None\n",
      "foo\n",
      "5 None\n",
      "6 5\n",
      "7 6\n"
     ]
    }
   ],
   "source": [
    "test = Node(5)\n",
    "test.next = Node(6)\n",
    "test.random = test.next.next\n",
    "test.next.next = Node(7)\n",
    "test.next.random = test\n",
    "test.next.next.random = test.next\n",
    "foo = clone(test)\n",
    "test.next = None\n",
    "print_list(test)\n",
    "print 'foo'\n",
    "print_list(foo)"
   ]
  },
  {
   "cell_type": "code",
   "execution_count": null,
   "metadata": {
    "collapsed": true
   },
   "outputs": [],
   "source": []
  }
 ],
 "metadata": {
  "kernelspec": {
   "display_name": "Python 2",
   "language": "python",
   "name": "python2"
  },
  "language_info": {
   "codemirror_mode": {
    "name": "ipython",
    "version": 2
   },
   "file_extension": ".py",
   "mimetype": "text/x-python",
   "name": "python",
   "nbconvert_exporter": "python",
   "pygments_lexer": "ipython2",
   "version": "2.7.6"
  }
 },
 "nbformat": 4,
 "nbformat_minor": 0
}
