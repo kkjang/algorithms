{
 "cells": [
  {
   "cell_type": "code",
   "execution_count": 58,
   "metadata": {
    "collapsed": false
   },
   "outputs": [],
   "source": [
    "from collections import deque\n",
    "def longest_common_subsequence(array1, array2):\n",
    "    table = [[0]*(len(array1)+1) for _ in range(len(array2)+1)]\n",
    "    for j in range(len(array2)):\n",
    "        for i in range(len(array1)):\n",
    "            if array1[i] == array2[j]:\n",
    "                table[j+1][i+1] = table[j][i] + 1\n",
    "            else:\n",
    "                table[j+1][i+1] = max(table[j][i+1], table[j+1][i])\n",
    "    common_list = deque()\n",
    "    i = len(array1)\n",
    "    j = len(array2)\n",
    "    while True:\n",
    "        if i == 0 or j == 0:\n",
    "            break\n",
    "#         print j, i\n",
    "        if array1[i-1] == array2[j-1]:\n",
    "            common_list.appendleft(array1[i-1])\n",
    "            i -= 1\n",
    "            j -= 1\n",
    "        else:\n",
    "            if table[j][i-1] > table[j-1][i]:\n",
    "                i -= 1\n",
    "            else:\n",
    "                j -= 1\n",
    "    print ''.join(common_list)\n",
    "    return table\n",
    "\n",
    "def longest_common_substring(array1, array2):\n",
    "    table = [[0]*(len(array1)+1) for _ in range(len(array2)+1)]\n",
    "    for j in range(len(array2)):\n",
    "        for i in range(len(array1)):\n",
    "            if array1[i] == array2[j]:\n",
    "                table[j+1][i+1] = table[j][i] + 1\n",
    "            else:\n",
    "                table[j+1][i+1] = 0\n",
    "    return table"
   ]
  },
  {
   "cell_type": "code",
   "execution_count": 60,
   "metadata": {
    "collapsed": false
   },
   "outputs": [
    {
     "name": "stdout",
     "output_type": "stream",
     "text": [
      "[0, 0, 0, 0, 0, 0, 0, 0, 0, 0]\n",
      "[0, 0, 0, 0, 0, 0, 0, 0, 0, 0]\n",
      "[0, 0, 0, 0, 0, 0, 0, 0, 0, 0]\n",
      "[0, 0, 0, 0, 0, 0, 0, 0, 0, 0]\n",
      "[0, 1, 0, 0, 0, 0, 0, 0, 0, 0]\n",
      "[0, 0, 2, 0, 0, 0, 0, 0, 0, 0]\n",
      "[0, 0, 0, 3, 0, 0, 0, 0, 0, 0]\n",
      "[0, 0, 0, 0, 4, 0, 0, 0, 0, 0]\n",
      "[0, 0, 0, 0, 0, 0, 0, 0, 0, 0]\n",
      "[0, 0, 0, 0, 0, 0, 0, 0, 0, 0]\n",
      "[0, 0, 0, 0, 0, 0, 0, 0, 1, 0]\n",
      "[0, 0, 0, 0, 0, 0, 0, 0, 0, 2]\n"
     ]
    }
   ],
   "source": [
    "# test = longest_common_subsequence('abcdefghi','abcdzxhi')\n",
    "test = longest_common_substring('abcdefghi','lkoabcdzxhi')\n",
    "for row in test:\n",
    "    print row"
   ]
  },
  {
   "cell_type": "code",
   "execution_count": null,
   "metadata": {
    "collapsed": true
   },
   "outputs": [],
   "source": []
  }
 ],
 "metadata": {
  "kernelspec": {
   "display_name": "Python 2",
   "language": "python",
   "name": "python2"
  },
  "language_info": {
   "codemirror_mode": {
    "name": "ipython",
    "version": 2
   },
   "file_extension": ".py",
   "mimetype": "text/x-python",
   "name": "python",
   "nbconvert_exporter": "python",
   "pygments_lexer": "ipython2",
   "version": "2.7.6"
  }
 },
 "nbformat": 4,
 "nbformat_minor": 0
}
