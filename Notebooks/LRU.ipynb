{
 "cells": [
  {
   "cell_type": "code",
   "execution_count": 248,
   "metadata": {
    "collapsed": false
   },
   "outputs": [],
   "source": [
    "class LRU:\n",
    "    def __init__(self, max_size):\n",
    "        self.max_size = max_size\n",
    "        self.cur_size = 0\n",
    "        self.lookup = dict()\n",
    "        self.lru = DoublyLinkedList()\n",
    "    def get(self, key):\n",
    "        if self.lookup.get(key) is None or self.lookup.get(key).data is None:\n",
    "            return -1\n",
    "        else:\n",
    "            return self.lookup[key]\n",
    "    def set(self, key, val):\n",
    "        if self.lookup.get(key) is None:\n",
    "            new_node = Node(val)\n",
    "            if self.cur_size + 1 > self.max_size:\n",
    "                self.lru.tail.data = None\n",
    "                self.lru.remove(self.lru.tail)\n",
    "                self.cur_size -= 1\n",
    "            self.lru.push_left(new_node = new_node)\n",
    "            self.lookup[key] = new_node\n",
    "            self.cur_size += 1\n",
    "        else:\n",
    "            self.lookup[key].data = val\n",
    "            self.lru.remove(self.lookup[key])\n",
    "            self.lru.push_left(new_node = self.lookup[key])\n",
    "            self.lookup[key].prev = None\n",
    "                \n",
    "\n",
    "class DoublyLinkedList:\n",
    "    def __init__(self):\n",
    "        self.head = None\n",
    "        self.tail = None\n",
    "    def push(self, val = None, new_node = None):\n",
    "        if new_node is None:\n",
    "            new_node = Node(val)\n",
    "        if self.tail is None:\n",
    "            self.head = new_node\n",
    "            self.tail = new_node\n",
    "        else:\n",
    "            self.tail.nxt = new_node\n",
    "            new_node.prev = self.tail\n",
    "            self.tail = new_node\n",
    "    def push_left(self, val = None, new_node = None):\n",
    "        if new_node is None:\n",
    "            new_node = Node(val)\n",
    "        if self.head is None:\n",
    "            self.head = new_node\n",
    "            self.tail = new_node\n",
    "        else:\n",
    "            new_node.nxt = self.head\n",
    "            self.head.prev = new_node\n",
    "            self.head = new_node\n",
    "    def pop(self):\n",
    "        if self.head is not None and self.tail is not None:\n",
    "            return_node = self.tail\n",
    "            if self.tail == self.head:\n",
    "                self.head = None\n",
    "                self.tail = None\n",
    "            else:\n",
    "                self.tail = return_node.prev\n",
    "                self.tail.nxt = None\n",
    "            return return_node\n",
    "    def pop_left(self):\n",
    "        if self.head is not None and self.tail is not None:\n",
    "            return_node = self.head\n",
    "            if self.tail == self.head:\n",
    "                self.head = None\n",
    "                self.tail = None\n",
    "            else:\n",
    "                self.head = return_node.nxt\n",
    "                self.head.prev = None\n",
    "            return return_node\n",
    "    def remove(self, node):\n",
    "        if node == self.head:\n",
    "            self.pop_left()\n",
    "        elif node == self.tail:\n",
    "            self.pop()\n",
    "        else:\n",
    "            node.prev.nxt = node.nxt\n",
    "            node.nxt.prev = node.prev\n",
    "\n",
    "class Node:\n",
    "    def __init__(self, val):\n",
    "        self.data = val\n",
    "        self.nxt = None\n",
    "        self.prev = None\n",
    "    def __str__(self):\n",
    "        return str(self.data)"
   ]
  },
  {
   "cell_type": "code",
   "execution_count": 249,
   "metadata": {
    "collapsed": false
   },
   "outputs": [
    {
     "name": "stdout",
     "output_type": "stream",
     "text": [
      "lol\n",
      "-1\n",
      "-1\n"
     ]
    }
   ],
   "source": [
    "test = LRU(4)\n",
    "test.set('test', \"lol\")\n",
    "test.set(1, 2)\n",
    "test.set(3, 4)\n",
    "test.set(5, 6)\n",
    "print test.get('test')\n",
    "print test.get(7)\n",
    "test.set(7, 8)\n",
    "print test.get('test')\n"
   ]
  }
 ],
 "metadata": {
  "kernelspec": {
   "display_name": "Python 2",
   "language": "python",
   "name": "python2"
  },
  "language_info": {
   "codemirror_mode": {
    "name": "ipython",
    "version": 2
   },
   "file_extension": ".py",
   "mimetype": "text/x-python",
   "name": "python",
   "nbconvert_exporter": "python",
   "pygments_lexer": "ipython2",
   "version": "2.7.6"
  }
 },
 "nbformat": 4,
 "nbformat_minor": 0
}
