{
 "cells": [
  {
   "cell_type": "code",
   "execution_count": 25,
   "metadata": {
    "collapsed": true
   },
   "outputs": [],
   "source": [
    "def selection_sort(arr):\n",
    "    for i in range(len(arr) - 1):\n",
    "        largest = 0\n",
    "        for j in range(1, len(arr)-i):\n",
    "            if arr[j] > arr[largest]:\n",
    "                largest = j\n",
    "        tmp = arr[len(arr)-i - 1]\n",
    "        arr[len(arr)-i - 1] = arr[largest]\n",
    "        arr[largest] = tmp\n",
    "        print arr"
   ]
  },
  {
   "cell_type": "code",
   "execution_count": 97,
   "metadata": {
    "collapsed": false
   },
   "outputs": [],
   "source": [
    "def recursive_selection_sort(arr):\n",
    "    if len(arr) == 1:\n",
    "        return arr\n",
    "    else:\n",
    "        largest = max(enumerate(arr), key=lambda x:x[1])\n",
    "        largest_val = largest[1]\n",
    "        largest_index = largest[0]\n",
    "        tmp = arr[-1]\n",
    "        arr[-1] = largest_val\n",
    "        arr[largest_index] = tmp\n",
    "        return recursive_selection_sort(arr[:-1]) + [largest_val]\n"
   ]
  },
  {
   "cell_type": "code",
   "execution_count": null,
   "metadata": {
    "collapsed": true
   },
   "outputs": [],
   "source": [
    "test = [54,26,93,17,77,31,44,55,20]\n",
    "# selection_sort(test)\n",
    "print recursive_selection_sort(test)"
   ]
  }
 ],
 "metadata": {
  "kernelspec": {
   "display_name": "Python 2",
   "language": "python",
   "name": "python2"
  },
  "language_info": {
   "codemirror_mode": {
    "name": "ipython",
    "version": 2
   },
   "file_extension": ".py",
   "mimetype": "text/x-python",
   "name": "python",
   "nbconvert_exporter": "python",
   "pygments_lexer": "ipython2",
   "version": "2.7.6"
  }
 },
 "nbformat": 4,
 "nbformat_minor": 0
}
