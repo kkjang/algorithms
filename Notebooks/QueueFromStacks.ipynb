{
 "cells": [
  {
   "cell_type": "code",
   "execution_count": 18,
   "metadata": {
    "collapsed": true
   },
   "outputs": [],
   "source": [
    "class Stack:\n",
    "    def __init__(self):\n",
    "        self.data = []\n",
    "    def __str__(self):\n",
    "        return ' '.join(str(x) for x in self.data)\n",
    "    def __len__(self):\n",
    "        return len(self.data)\n",
    "    def push(self, val):\n",
    "        self.data.append(val)\n",
    "    def pop(self):\n",
    "        last = self.data[-1]\n",
    "        self.data = self.data[:-1]\n",
    "        return last\n",
    "\n",
    "class Queue:\n",
    "    def __init__(self):\n",
    "        self.inbox = Stack()\n",
    "        self.outbox = Stack()\n",
    "    def __str__(self):\n",
    "        return ' '.join((str(self.outbox)[::-1], str(self.inbox)))\n",
    "    def enqueue(self, val):\n",
    "        self.inbox.push(val)\n",
    "    def dequeue(self):\n",
    "        if not self.outbox.data:\n",
    "            for i in range(len(self.inbox)):\n",
    "                transfer = self.inbox.pop()\n",
    "                self.outbox.push(transfer)\n",
    "        self.outbox.pop()\n",
    "    "
   ]
  },
  {
   "cell_type": "code",
   "execution_count": 19,
   "metadata": {
    "collapsed": false
   },
   "outputs": [
    {
     "name": "stdout",
     "output_type": "stream",
     "text": [
      "6 7 8\n"
     ]
    }
   ],
   "source": [
    "test = Queue()\n",
    "test.enqueue(5)\n",
    "test.enqueue(6)\n",
    "test.enqueue(7)\n",
    "test.dequeue()\n",
    "test.enqueue(8)\n",
    "print test"
   ]
  }
 ],
 "metadata": {
  "kernelspec": {
   "display_name": "Python 2",
   "language": "python",
   "name": "python2"
  },
  "language_info": {
   "codemirror_mode": {
    "name": "ipython",
    "version": 2
   },
   "file_extension": ".py",
   "mimetype": "text/x-python",
   "name": "python",
   "nbconvert_exporter": "python",
   "pygments_lexer": "ipython2",
   "version": "2.7.6"
  }
 },
 "nbformat": 4,
 "nbformat_minor": 0
}
