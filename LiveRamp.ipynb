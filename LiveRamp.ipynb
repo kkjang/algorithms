{
 "cells": [
  {
   "cell_type": "code",
   "execution_count": 4,
   "metadata": {
    "collapsed": true
   },
   "outputs": [],
   "source": [
    "def solution(A, X, D):\n",
    "    # initialize position to 0\n",
    "    position = 0\n",
    "    # quick check if frog can cross immediately\n",
    "    if (X-D) <= 0:\n",
    "        return 0\n",
    "    # iterate from 1..len(A)\n",
    "    for second in range(len(A)):\n",
    "        leaf_distance = A[second]\n",
    "        # only check leaves that allow the frog to move upwards\n",
    "        # check if distance from current position to leaf is jumpable by D\n",
    "        if (leaf_distance - position) > 0 and (leaf_distance - position) <= D:\n",
    "            # if so, jump to leaf\n",
    "            position = leaf_distance\n",
    "            #if frog is able to jump to destination, return the time counter\n",
    "            if X - position <= D:\n",
    "                return second\n",
    "    # if frog still not able to cross, return -1\n",
    "    return -1\n",
    "            "
   ]
  },
  {
   "cell_type": "code",
   "execution_count": 35,
   "metadata": {
    "collapsed": false
   },
   "outputs": [
    {
     "data": {
      "text/plain": [
       "1"
      ]
     },
     "execution_count": 35,
     "metadata": {},
     "output_type": "execute_result"
    }
   ],
   "source": [
    "foo = [0,5,5,5,5]\n",
    "solution(foo, 10, 5)"
   ]
  }
 ],
 "metadata": {
  "kernelspec": {
   "display_name": "Python 2",
   "language": "python",
   "name": "python2"
  },
  "language_info": {
   "codemirror_mode": {
    "name": "ipython",
    "version": 2
   },
   "file_extension": ".py",
   "mimetype": "text/x-python",
   "name": "python",
   "nbconvert_exporter": "python",
   "pygments_lexer": "ipython2",
   "version": "2.7.6"
  }
 },
 "nbformat": 4,
 "nbformat_minor": 0
}
