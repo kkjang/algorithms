{
 "cells": [
  {
   "cell_type": "code",
   "execution_count": 34,
   "metadata": {
    "collapsed": false
   },
   "outputs": [],
   "source": [
    "class ZigZag(object):\n",
    "    def longestZigZag(self, sequence):\n",
    "        signs = [0]\n",
    "        zig_length = [1]\n",
    "        \n",
    "        for i in range(1,len(sequence)):\n",
    "            local_max = 1\n",
    "            for j in range(i):\n",
    "                if (j == 0) or (signs[j] < 0 and (sequence[i]>sequence[j] )) or (signs[j] > 0 and (sequence[i]<sequence[j])):\n",
    "                    new_max = zig_length[j] + 1\n",
    "                    if new_max > local_max:\n",
    "                        local_max = new_max\n",
    "            zig_length.append(local_max)\n",
    "            signs.append(sequence[i] - sequence[j])\n",
    "        print sequence\n",
    "        print zig_length\n",
    "        return max(zig_length)\n",
    "        \n",
    "        "
   ]
  },
  {
   "cell_type": "code",
   "execution_count": 35,
   "metadata": {
    "collapsed": false
   },
   "outputs": [
    {
     "name": "stdout",
     "output_type": "stream",
     "text": [
      "(70, 55, 13, 2, 99, 2, 80, 80, 80, 80, 100, 19, 7, 5, 5, 5, 1000, 32, 32)\n",
      "[1, 2, 2, 2, 3, 4, 5, 5, 5, 5, 5, 6, 6, 6, 6, 6, 7, 8, 8]\n"
     ]
    },
    {
     "data": {
      "text/plain": [
       "8"
      ]
     },
     "execution_count": 35,
     "metadata": {},
     "output_type": "execute_result"
    }
   ],
   "source": [
    "foo = ZigZag()\n",
    "foo.longestZigZag((70, 55, 13, 2, 99, 2, 80, 80, 80, 80, 100, 19, 7, 5, 5, 5, 1000, 32, 32))"
   ]
  }
 ],
 "metadata": {
  "kernelspec": {
   "display_name": "Python 2",
   "language": "python",
   "name": "python2"
  },
  "language_info": {
   "codemirror_mode": {
    "name": "ipython",
    "version": 2
   },
   "file_extension": ".py",
   "mimetype": "text/x-python",
   "name": "python",
   "nbconvert_exporter": "python",
   "pygments_lexer": "ipython2",
   "version": "2.7.6"
  }
 },
 "nbformat": 4,
 "nbformat_minor": 0
}
