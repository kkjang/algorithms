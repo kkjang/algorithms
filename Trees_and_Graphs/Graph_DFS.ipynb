{
 "cells": [
  {
   "cell_type": "code",
   "execution_count": 26,
   "metadata": {
    "collapsed": false
   },
   "outputs": [],
   "source": [
    "def DFS(arr, root, val):\n",
    "    visited = set(root)\n",
    "    current = [root]\n",
    "    while current:\n",
    "        current_node = current.pop()\n",
    "        for j in arr[current_node]:\n",
    "            if j == val:\n",
    "                print \"found\"\n",
    "                return\n",
    "            if j not in visited:\n",
    "                visited.add(j)\n",
    "                current.append(j)\n",
    "    print \"not found\"\n",
    "                \n",
    "                "
   ]
  },
  {
   "cell_type": "code",
   "execution_count": 28,
   "metadata": {
    "collapsed": false
   },
   "outputs": [
    {
     "name": "stdout",
     "output_type": "stream",
     "text": [
      "not found\n"
     ]
    }
   ],
   "source": [
    "foo = dict()\n",
    "foo['a'] = ['b', 'c']\n",
    "foo['b'] = ['a','d','e']\n",
    "foo['c'] = ['a', 'f']\n",
    "foo['d'] = ['b']\n",
    "foo['e'] = ['b','f']\n",
    "foo['f'] = ['c', 'e']\n",
    "DFS(foo, 'a', 'z')"
   ]
  }
 ],
 "metadata": {
  "kernelspec": {
   "display_name": "Python 2",
   "language": "python",
   "name": "python2"
  },
  "language_info": {
   "codemirror_mode": {
    "name": "ipython",
    "version": 2
   },
   "file_extension": ".py",
   "mimetype": "text/x-python",
   "name": "python",
   "nbconvert_exporter": "python",
   "pygments_lexer": "ipython2",
   "version": "2.7.6"
  }
 },
 "nbformat": 4,
 "nbformat_minor": 0
}
