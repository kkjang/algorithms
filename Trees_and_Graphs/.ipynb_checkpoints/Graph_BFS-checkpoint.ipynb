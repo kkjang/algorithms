{
 "cells": [
  {
   "cell_type": "code",
   "execution_count": 4,
   "metadata": {
    "collapsed": true
   },
   "outputs": [],
   "source": [
    "def BFS_frontier(arr, start):\n",
    "    visited = [start]\n",
    "    current = [start]\n",
    "    while current:\n",
    "        next = list()\n",
    "        for i in current:\n",
    "            print i\n",
    "            for j in arr[i]:\n",
    "                if j not in visited:\n",
    "                    next.append(j)\n",
    "                    visited.append(j)\n",
    "                else:\n",
    "                    print \"%s already visited\" % j\n",
    "        current = next\n",
    "\n",
    "from collections import deque\n",
    "def BFS_queue(arr,root):\n",
    "    visited = set(root)\n",
    "    current = deque(root)\n",
    "    while current:\n",
    "        current_node = current.popleft()\n",
    "        print current_node\n",
    "        for i in arr[current_node]:\n",
    "            if i not in visited:\n",
    "                visited.add(i)\n",
    "                current.append(i)\n",
    "    print visited\n",
    "            \n"
   ]
  },
  {
   "cell_type": "code",
   "execution_count": 5,
   "metadata": {
    "collapsed": false
   },
   "outputs": [
    {
     "name": "stdout",
     "output_type": "stream",
     "text": [
      "a\n",
      "b\n",
      "c\n",
      "d\n",
      "e\n",
      "f\n",
      "set(['a', 'c', 'b', 'e', 'd', 'f'])\n"
     ]
    }
   ],
   "source": [
    "foo = dict()\n",
    "foo['a'] = ['b', 'c']\n",
    "foo['b'] = ['a','d','e']\n",
    "foo['c'] = ['a', 'f']\n",
    "foo['d'] = ['b']\n",
    "foo['e'] = ['b','f']\n",
    "foo['f'] = ['c', 'e']\n",
    "BFS_queue(foo, 'a')"
   ]
  }
 ],
 "metadata": {
  "kernelspec": {
   "display_name": "Python 2",
   "language": "python",
   "name": "python2"
  },
  "language_info": {
   "codemirror_mode": {
    "name": "ipython",
    "version": 2
   },
   "file_extension": ".py",
   "mimetype": "text/x-python",
   "name": "python",
   "nbconvert_exporter": "python",
   "pygments_lexer": "ipython2",
   "version": "2.7.6"
  }
 },
 "nbformat": 4,
 "nbformat_minor": 0
}
