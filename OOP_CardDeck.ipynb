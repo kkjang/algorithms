{
 "cells": [
  {
   "cell_type": "code",
   "execution_count": 80,
   "metadata": {
    "collapsed": false
   },
   "outputs": [],
   "source": [
    "class Card(object):\n",
    "    def __init__(self, suite, rank):\n",
    "        self.suite = suite\n",
    "        self.rank = rank\n",
    "    def __str__(self):\n",
    "        return \"Card: %s of %s\" % (self.rank, self.suite)\n",
    "\n",
    "class Deck(object):\n",
    "    def __init__(self):\n",
    "        self.cards = self.create_deck()\n",
    "        \n",
    "    def __str__(self):\n",
    "        return \"Cards in deck:\\n%s\" % ' '.join([str(x) for x in self.cards])\n",
    "    \n",
    "    def create_deck(self):\n",
    "        new_deck = list()\n",
    "        suites = ['Spades', 'Diamonds','Clubs','Hearts']\n",
    "        rank = ['Ace'] + range(2,11) + ['Jack','Queen','King']\n",
    "        for i in suites:\n",
    "            for j in rank:\n",
    "                new_deck.append(Card(i, str(j)))\n",
    "        return new_deck\n",
    "    \n",
    "    def shuffle(self):\n",
    "        random.shuffle(self.cards)\n",
    "        "
   ]
  },
  {
   "cell_type": "code",
   "execution_count": 81,
   "metadata": {
    "collapsed": false
   },
   "outputs": [
    {
     "name": "stdout",
     "output_type": "stream",
     "text": [
      "Cards in deck:\n",
      "Card: Ace of Spades Card: 2 of Spades Card: 3 of Spades Card: 4 of Spades Card: 5 of Spades Card: 6 of Spades Card: 7 of Spades Card: 8 of Spades Card: 9 of Spades Card: 10 of Spades Card: Jack of Spades Card: Queen of Spades Card: King of Spades Card: Ace of Diamonds Card: 2 of Diamonds Card: 3 of Diamonds Card: 4 of Diamonds Card: 5 of Diamonds Card: 6 of Diamonds Card: 7 of Diamonds Card: 8 of Diamonds Card: 9 of Diamonds Card: 10 of Diamonds Card: Jack of Diamonds Card: Queen of Diamonds Card: King of Diamonds Card: Ace of Clubs Card: 2 of Clubs Card: 3 of Clubs Card: 4 of Clubs Card: 5 of Clubs Card: 6 of Clubs Card: 7 of Clubs Card: 8 of Clubs Card: 9 of Clubs Card: 10 of Clubs Card: Jack of Clubs Card: Queen of Clubs Card: King of Clubs Card: Ace of Hearts Card: 2 of Hearts Card: 3 of Hearts Card: 4 of Hearts Card: 5 of Hearts Card: 6 of Hearts Card: 7 of Hearts Card: 8 of Hearts Card: 9 of Hearts Card: 10 of Hearts Card: Jack of Hearts Card: Queen of Hearts Card: King of Hearts\n",
      "Cards in deck:\n",
      "Card: 7 of Diamonds Card: Jack of Diamonds Card: 9 of Hearts Card: Queen of Hearts Card: King of Spades Card: 10 of Diamonds Card: 9 of Diamonds Card: Jack of Clubs Card: Queen of Spades Card: Jack of Spades Card: King of Clubs Card: 2 of Hearts Card: 3 of Diamonds Card: 9 of Clubs Card: 10 of Hearts Card: 5 of Spades Card: 3 of Spades Card: 8 of Clubs Card: 4 of Hearts Card: 6 of Diamonds Card: Jack of Hearts Card: 8 of Diamonds Card: 6 of Clubs Card: 10 of Spades Card: 8 of Spades Card: 6 of Hearts Card: 5 of Hearts Card: 4 of Clubs Card: 6 of Spades Card: Ace of Hearts Card: 4 of Spades Card: 8 of Hearts Card: 5 of Diamonds Card: 10 of Clubs Card: 3 of Hearts Card: King of Hearts Card: 4 of Diamonds Card: 7 of Spades Card: Queen of Diamonds Card: 7 of Hearts Card: 3 of Clubs Card: Ace of Clubs Card: Ace of Diamonds Card: 2 of Diamonds Card: 2 of Clubs Card: 2 of Spades Card: Queen of Clubs Card: 7 of Clubs Card: 9 of Spades Card: 5 of Clubs Card: King of Diamonds Card: Ace of Spades\n"
     ]
    }
   ],
   "source": [
    "deck = Deck()\n",
    "print deck\n",
    "deck.shuffle()\n",
    "print deck"
   ]
  }
 ],
 "metadata": {
  "kernelspec": {
   "display_name": "Python 2",
   "language": "python",
   "name": "python2"
  },
  "language_info": {
   "codemirror_mode": {
    "name": "ipython",
    "version": 2
   },
   "file_extension": ".py",
   "mimetype": "text/x-python",
   "name": "python",
   "nbconvert_exporter": "python",
   "pygments_lexer": "ipython2",
   "version": "2.7.6"
  }
 },
 "nbformat": 4,
 "nbformat_minor": 0
}
