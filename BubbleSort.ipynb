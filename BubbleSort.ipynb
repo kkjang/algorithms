{
 "cells": [
  {
   "cell_type": "code",
   "execution_count": 9,
   "metadata": {
    "collapsed": false
   },
   "outputs": [],
   "source": [
    "def bubble_sort(arr):\n",
    "    count = 0\n",
    "    for i in range(len(arr)-1):\n",
    "        for j in range(len(arr)- i - 1):\n",
    "            count += 1\n",
    "            if arr[j] > arr[j+1]:\n",
    "                tmp = arr[j+1]\n",
    "                arr[j+1] = arr[j]\n",
    "                arr[j] = tmp\n",
    "    return arr, count"
   ]
  },
  {
   "cell_type": "code",
   "execution_count": 22,
   "metadata": {
    "collapsed": false
   },
   "outputs": [],
   "source": [
    "def short_bubble_sort(arr):\n",
    "    count = 0\n",
    "    for i in range(len(arr)-1):\n",
    "        change = False\n",
    "        for j in range(len(arr) - i - 1):\n",
    "            count += 1\n",
    "            if arr[j] > arr[j+1]:\n",
    "                change = True\n",
    "                tmp = arr[j+1]\n",
    "                arr[j+1] = arr[j]\n",
    "                arr[j] = tmp\n",
    "        if change == False:\n",
    "            return arr, count\n",
    "    return arr, count\n",
    "                "
   ]
  },
  {
   "cell_type": "code",
   "execution_count": 23,
   "metadata": {
    "collapsed": false
   },
   "outputs": [
    {
     "name": "stdout",
     "output_type": "stream",
     "text": [
      "([1, 2, 3, 4, 5], 10)\n",
      "([1, 2, 3, 4, 5], 10)\n"
     ]
    }
   ],
   "source": [
    "test = [2,3,4,5,1]\n",
    "print bubble_sort(list(test))\n",
    "print short_bubble_sort(list(test))"
   ]
  }
 ],
 "metadata": {
  "kernelspec": {
   "display_name": "Python 2",
   "language": "python",
   "name": "python2"
  },
  "language_info": {
   "codemirror_mode": {
    "name": "ipython",
    "version": 2
   },
   "file_extension": ".py",
   "mimetype": "text/x-python",
   "name": "python",
   "nbconvert_exporter": "python",
   "pygments_lexer": "ipython2",
   "version": "2.7.6"
  }
 },
 "nbformat": 4,
 "nbformat_minor": 0
}
